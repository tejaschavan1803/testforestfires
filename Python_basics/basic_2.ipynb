{
 "cells": [
  {
   "cell_type": "markdown",
   "id": "7b3fa26a",
   "metadata": {},
   "source": [
    "sets"
   ]
  },
  {
   "cell_type": "code",
   "execution_count": 3,
   "id": "baea78fd",
   "metadata": {},
   "outputs": [
    {
     "data": {
      "text/plain": [
       "{21, 22, 23, 43, 53, 222, 232, 544}"
      ]
     },
     "execution_count": 3,
     "metadata": {},
     "output_type": "execute_result"
    }
   ],
   "source": [
    "set = {23,232,222,22}\n",
    "set2 = {43,21,53,544}\n",
    "set.union(set2)"
   ]
  },
  {
   "cell_type": "code",
   "execution_count": 1,
   "id": "6074b2f5",
   "metadata": {},
   "outputs": [
    {
     "name": "stdout",
     "output_type": "stream",
     "text": [
      "<class 'set'>\n"
     ]
    }
   ],
   "source": [
    "my_set ={1,2,3,4,5}\n",
    "print(type(my_set))"
   ]
  },
  {
   "cell_type": "code",
   "execution_count": 3,
   "id": "b9f993e2",
   "metadata": {},
   "outputs": [
    {
     "name": "stdout",
     "output_type": "stream",
     "text": [
      "<class 'set'>\n"
     ]
    }
   ],
   "source": [
    "empty_set=set()\n",
    "print(type(empty_set))"
   ]
  },
  {
   "cell_type": "code",
   "execution_count": 5,
   "id": "423fc1fe",
   "metadata": {},
   "outputs": [
    {
     "name": "stdout",
     "output_type": "stream",
     "text": [
      "<class 'set'>\n"
     ]
    }
   ],
   "source": [
    "set = set([1,2,3,4,5,6])\n",
    "print(type(set))"
   ]
  },
  {
   "cell_type": "code",
   "execution_count": 20,
   "id": "a6f3abeb",
   "metadata": {},
   "outputs": [
    {
     "name": "stdout",
     "output_type": "stream",
     "text": [
      "{1, 2, 3, 4}\n",
      "{1, 2, 3, 4, 6}\n"
     ]
    }
   ],
   "source": [
    "#basic set operation\n",
    "\n",
    "#adding and removing element\n",
    "\n",
    "my_set.add(4) \n",
    "print(my_set)\n",
    "\n",
    "my_set.add(6)\n",
    "print(my_set)"
   ]
  },
  {
   "cell_type": "code",
   "execution_count": 21,
   "id": "cc4903fe",
   "metadata": {},
   "outputs": [
    {
     "name": "stdout",
     "output_type": "stream",
     "text": [
      "{1, 2, 3, 4}\n"
     ]
    }
   ],
   "source": [
    "my_set.remove(6)\n",
    "print(my_set)\n"
   ]
  },
  {
   "cell_type": "code",
   "execution_count": 22,
   "id": "b68b3be0",
   "metadata": {},
   "outputs": [
    {
     "name": "stdout",
     "output_type": "stream",
     "text": [
      "1\n",
      "{2, 3, 4}\n"
     ]
    }
   ],
   "source": [
    "#pop method \n",
    "remove_elemement = my_set.pop()\n",
    "print(remove_elemement)\n",
    "print(my_set)"
   ]
  },
  {
   "cell_type": "code",
   "execution_count": 23,
   "id": "45d9f84e",
   "metadata": {},
   "outputs": [
    {
     "name": "stdout",
     "output_type": "stream",
     "text": [
      "set()\n"
     ]
    }
   ],
   "source": [
    "#clear all the element\n",
    "my_set.clear()\n",
    "print(my_set)"
   ]
  },
  {
   "cell_type": "code",
   "execution_count": 2,
   "id": "0a34084f",
   "metadata": {},
   "outputs": [
    {
     "name": "stdout",
     "output_type": "stream",
     "text": [
      "True\n",
      "False\n"
     ]
    }
   ],
   "source": [
    "my_set = {1,2,3,4,5}\n",
    "print(3 in my_set)\n",
    "print(10 in my_set)"
   ]
  },
  {
   "cell_type": "code",
   "execution_count": 5,
   "id": "eb3aeef3",
   "metadata": {},
   "outputs": [
    {
     "name": "stdout",
     "output_type": "stream",
     "text": [
      "{1, 2, 3, 4, 5, 6, 7, 8, 9}\n"
     ]
    }
   ],
   "source": [
    "## mathematical opearation\n",
    "set1 = {1,2,3,4,5,6}\n",
    "set2 = {4,5,6,7,8,9}\n",
    "\n",
    "union_set = set1.union(set2)\n",
    "print(union_set)\n"
   ]
  },
  {
   "cell_type": "code",
   "execution_count": 7,
   "id": "ff7ec514",
   "metadata": {},
   "outputs": [
    {
     "name": "stdout",
     "output_type": "stream",
     "text": [
      "{4, 5, 6}\n",
      "{4, 5, 6}\n",
      "set()\n"
     ]
    }
   ],
   "source": [
    "set1 = {1,2,3,4,5,6}\n",
    "set2 = {4,5,6,7,8,9}\n",
    "\n",
    "intersection = set1.intersection(set2)\n",
    "print(intersection)\n",
    "\n",
    "\n",
    "set1.intersection_update(set2)\n",
    "print(set1)\n",
    "\n",
    "#difference\n",
    "diff = set1.difference(set2)\n",
    "print(diff)"
   ]
  },
  {
   "cell_type": "code",
   "execution_count": 10,
   "id": "7de6a836",
   "metadata": {},
   "outputs": [
    {
     "name": "stdout",
     "output_type": "stream",
     "text": [
      "{2, 4}\n",
      "{12}\n"
     ]
    }
   ],
   "source": [
    "set_1 = {2,4,6,8,10}\n",
    "set_2 = {6,8,10,12}\n",
    "\n",
    "diff = set_1.difference(set_2)\n",
    "print(diff)\n",
    "\n",
    "diff = set_2.difference(set_1)\n",
    "print(diff)"
   ]
  },
  {
   "cell_type": "code",
   "execution_count": 12,
   "id": "8b4e8254",
   "metadata": {},
   "outputs": [
    {
     "data": {
      "text/plain": [
       "{2, 4, 12}"
      ]
     },
     "execution_count": 12,
     "metadata": {},
     "output_type": "execute_result"
    }
   ],
   "source": [
    "#symmmetric difference\n",
    "set_1.symmetric_difference(set_2)"
   ]
  },
  {
   "cell_type": "code",
   "execution_count": 16,
   "id": "b6692cfd",
   "metadata": {},
   "outputs": [
    {
     "name": "stdout",
     "output_type": "stream",
     "text": [
      "False\n",
      "False\n",
      "True\n"
     ]
    }
   ],
   "source": [
    "#sets method\n",
    "set1 = {1,2,3}\n",
    "set2 = {3,4,5}\n",
    "print(set1.issubset(set2))\n",
    " \n",
    "\n",
    "set1 = {1,2,3,4,5,6}\n",
    "set2 = {5,6,}\n",
    "print(set1.issubset(set2))\n",
    "\n",
    "print(set1.issuperset(set2))"
   ]
  },
  {
   "cell_type": "code",
   "execution_count": 18,
   "id": "e4c4a47c",
   "metadata": {},
   "outputs": [
    {
     "data": {
      "text/plain": [
       "{1, 2, 3, 4, 5}"
      ]
     },
     "execution_count": 18,
     "metadata": {},
     "output_type": "execute_result"
    }
   ],
   "source": [
    "lst = {1,2,3,3,4,4,5}\n",
    "set(lst)"
   ]
  },
  {
   "cell_type": "code",
   "execution_count": 19,
   "id": "a15e3e4d",
   "metadata": {},
   "outputs": [
    {
     "name": "stdout",
     "output_type": "stream",
     "text": [
      "{'discussing', 'this', 'tutorial', 'in', 'about', 'sets', 'we', 'are'}\n",
      "8\n"
     ]
    }
   ],
   "source": [
    "#counting unique words in text\n",
    "\n",
    "text = \"in this tutorial we are discussing about sets\"\n",
    "words = text.split()\n",
    "\n",
    "#convert list of words to set to get unique words\n",
    "unique_words = set(words)\n",
    "print(unique_words)\n",
    "print(len(unique_words))"
   ]
  },
  {
   "cell_type": "code",
   "execution_count": 2,
   "id": "f093675c",
   "metadata": {},
   "outputs": [
    {
     "name": "stdout",
     "output_type": "stream",
     "text": [
      "<class 'dict'>\n",
      "<class 'dict'>\n"
     ]
    }
   ],
   "source": [
    "#dictionaries\n",
    "#creating dictionaries\n",
    "empty_dic = {}\n",
    "print(type(empty_dic))\n",
    "\n",
    "empty_dic = dict()\n",
    "print(type(empty_dic))"
   ]
  },
  {
   "cell_type": "code",
   "execution_count": 3,
   "id": "27c98c24",
   "metadata": {},
   "outputs": [
    {
     "name": "stdout",
     "output_type": "stream",
     "text": [
      "{'name': 'tejas', 'age': 15, 'grade': 24} <class 'dict'>\n"
     ]
    }
   ],
   "source": [
    "student = {\"name\":\"tejas\",\"age\":15,\"grade\":24}\n",
    "print(student,type(student))"
   ]
  },
  {
   "cell_type": "code",
   "execution_count": null,
   "id": "baaf3686",
   "metadata": {},
   "outputs": [
    {
     "name": "stdout",
     "output_type": "stream",
     "text": [
      "A\n"
     ]
    }
   ],
   "source": [
    "#accessing dictionaries element  \n",
    "student = {\"name\":\"tejas\",\"age\":15,\"grade\":'A'}\n",
    "print(student[\"grade\"])\n",
    "\n",
    "print(student.get(\"grade\"))\n",
    "print(student.get(\"last_name\",\"not available\"))"
   ]
  },
  {
   "cell_type": "code",
   "execution_count": 9,
   "id": "a3e88a2e",
   "metadata": {},
   "outputs": [
    {
     "name": "stdout",
     "output_type": "stream",
     "text": [
      "{'name': 'tejas', 'age': 15, 'grade': 'A'}\n",
      "{'name': 'tejas', 'age': 22, 'grade': 'A'}\n"
     ]
    }
   ],
   "source": [
    "#modifying dictionary element\n",
    "#dictionary are mutable , so you can add , update ,delet elemnts\n",
    "print(student)\n",
    "\n",
    "student[\"age\"] = 22\n",
    "print(student)"
   ]
  },
  {
   "cell_type": "code",
   "execution_count": 10,
   "id": "609a83aa",
   "metadata": {},
   "outputs": [
    {
     "name": "stdout",
     "output_type": "stream",
     "text": [
      "{'name': 'tejas', 'age': 22, 'grade': 'A', 'address': 'India'}\n"
     ]
    }
   ],
   "source": [
    "#add \n",
    "student[\"address\"] = \"India\"\n",
    "print(student)"
   ]
  },
  {
   "cell_type": "code",
   "execution_count": null,
   "id": "6d000605",
   "metadata": {},
   "outputs": [
    {
     "name": "stdout",
     "output_type": "stream",
     "text": [
      "{'name': 'tejas', 'age': 22, 'grade': 'A'}\n"
     ]
    }
   ],
   "source": [
    "del student[\"address\"] \n",
    "print(student)\n"
   ]
  },
  {
   "cell_type": "code",
   "execution_count": 16,
   "id": "31bf9240",
   "metadata": {},
   "outputs": [
    {
     "name": "stdout",
     "output_type": "stream",
     "text": [
      "dict_keys(['name', 'age', 'grade'])\n",
      "dict_values(['tejas', 22, 'A'])\n",
      "dict_items([('name', 'tejas'), ('age', 22), ('grade', 'A')])\n"
     ]
    }
   ],
   "source": [
    "#dictionary methods\n",
    "#keys\n",
    "\n",
    "keys = student.keys()\n",
    "print(keys)\n",
    "\n",
    "#values\n",
    "\n",
    "values = student.values()\n",
    "print(values)\n",
    "\n",
    "#get key- value pairs\n",
    "items = student.items()\n",
    "print(items)"
   ]
  },
  {
   "cell_type": "code",
   "execution_count": 17,
   "id": "eb0f4a20",
   "metadata": {},
   "outputs": [
    {
     "name": "stdout",
     "output_type": "stream",
     "text": [
      "{'name': 'tejas', 'age': 22, 'grade': 'A'}\n",
      "{'name': 'tejas', 'age': 22, 'grade': 'A'}\n"
     ]
    }
   ],
   "source": [
    "#shallow copy  \n",
    "\n",
    "student_copy1 = student.copy()\n",
    "print(student)\n",
    "print(student_copy1)\n"
   ]
  },
  {
   "cell_type": "code",
   "execution_count": 19,
   "id": "068c1da5",
   "metadata": {},
   "outputs": [
    {
     "name": "stdout",
     "output_type": "stream",
     "text": [
      "{'name': 'tejas1', 'age': 22, 'grade': 'A'}\n",
      "{'name': 'tejas', 'age': 22, 'grade': 'A'}\n"
     ]
    }
   ],
   "source": [
    "student[\"name\"] = \"tejas1\"\n",
    "print(student)\n",
    "print(student_copy1)"
   ]
  },
  {
   "cell_type": "code",
   "execution_count": 21,
   "id": "d89cc1e6",
   "metadata": {},
   "outputs": [
    {
     "name": "stdout",
     "output_type": "stream",
     "text": [
      "name\n",
      "age\n",
      "grade\n",
      "tejas1\n",
      "22\n",
      "A\n"
     ]
    }
   ],
   "source": [
    "#iterating over dictionaries\n",
    "#use loop\n",
    "#iterate over keys\n",
    "for key in student.keys():\n",
    "    print(key)\n",
    "\n",
    "#iterate over values\n",
    "for value in student.values():\n",
    "    print(value)"
   ]
  },
  {
   "cell_type": "code",
   "execution_count": 28,
   "id": "886cc67d",
   "metadata": {},
   "outputs": [
    {
     "name": "stdout",
     "output_type": "stream",
     "text": [
      "{'name': 'tejas1', 'age': 22, 'grade': 'A'}\n",
      "name:tejas1\n",
      "age:22\n",
      "grade:A\n"
     ]
    }
   ],
   "source": [
    "#iterating over key and values\n",
    "print(student)\n",
    "\n",
    "for key,val in student.items():\n",
    "    print(f\"{key}:{val}\")"
   ]
  },
  {
   "cell_type": "code",
   "execution_count": 30,
   "id": "3ee78d90",
   "metadata": {},
   "outputs": [
    {
     "name": "stdout",
     "output_type": "stream",
     "text": [
      "{'name of student': 'tejas', 'class': 'msc', 'subjects': ['genomics', 'chemoinformatic', 'structural bioinformatics'], 'PRN': 2024}\n",
      "name of student:tejas\n",
      "class:msc\n",
      "subjects:['genomics', 'chemoinformatic', 'structural bioinformatics']\n",
      "PRN:2024\n"
     ]
    }
   ],
   "source": [
    "mydic = {\"name of student\":\"tejas\",\n",
    "         \"class\":\"msc\",\n",
    "         \"subjects\" :[\"genomics\",\"chemoinformatic\",\"structural bioinformatics\"],\n",
    "        \"PRN\": 2024}\n",
    "print(mydic)\n",
    "\n",
    "for key,value in mydic.items():\n",
    "    print(f\"{key}:{value}\")"
   ]
  },
  {
   "cell_type": "code",
   "execution_count": 35,
   "id": "e293b64f",
   "metadata": {},
   "outputs": [
    {
     "name": "stdout",
     "output_type": "stream",
     "text": [
      "{'student1': {'name': 'krish', 'age': 22, 'address': 'India'}, 'student2': {'name': 'radeep', 'age': 25, 'address': 'america'}}\n"
     ]
    }
   ],
   "source": [
    "#nested dictionary\n",
    "my_dic = {\n",
    "    \"student1\":{\"name\":\"krish\",\"age\":22,\"address\":\"India\"},\n",
    "    \"student2\":{\"name\":\"radeep\",\"age\":25,\"address\":\"america\"}\n",
    "}\n",
    "print(my_dic)"
   ]
  },
  {
   "cell_type": "code",
   "execution_count": null,
   "id": "2ca0d4f9",
   "metadata": {},
   "outputs": [
    {
     "name": "stdout",
     "output_type": "stream",
     "text": [
      "radeep\n",
      "25\n"
     ]
    }
   ],
   "source": [
    "##access nested dictionary\n",
    "print(my_dic[\"student2\"][\"name\"])\n",
    "print(my_dic[\"student2\"][\"age\"])"
   ]
  },
  {
   "cell_type": "code",
   "execution_count": 38,
   "id": "84c67208",
   "metadata": {},
   "outputs": [
    {
     "name": "stdout",
     "output_type": "stream",
     "text": [
      "student1:{'name': 'krish', 'age': 22, 'address': 'India'}\n",
      "name:krish\n",
      "age:22\n",
      "address:India\n",
      "student2:{'name': 'radeep', 'age': 25, 'address': 'america'}\n",
      "name:radeep\n",
      "age:25\n",
      "address:america\n"
     ]
    }
   ],
   "source": [
    "for student_id, student_info in my_dic.items():\n",
    "    print(f\"{student_id}:{student_info}\")\n",
    "    for key,value in student_info.items():\n",
    "        print(f\"{key}:{value}\")"
   ]
  },
  {
   "cell_type": "code",
   "execution_count": 39,
   "id": "6791525f",
   "metadata": {},
   "outputs": [
    {
     "name": "stdout",
     "output_type": "stream",
     "text": [
      "{0: 0, 1: 1, 2: 4, 3: 9, 4: 16}\n"
     ]
    }
   ],
   "source": [
    "#list comprehension\n",
    "squares = {x:x**2 for x in range(5)}\n",
    "print(squares)"
   ]
  },
  {
   "cell_type": "code",
   "execution_count": null,
   "id": "3673059f",
   "metadata": {},
   "outputs": [
    {
     "name": "stdout",
     "output_type": "stream",
     "text": [
      "hello\n"
     ]
    }
   ],
   "source": [
    "even = {x:x**2 for x in range(10) if x%2 ==0}\n",
    "print(even)"
   ]
  },
  {
   "cell_type": "code",
   "execution_count": 41,
   "id": "f2744762",
   "metadata": {},
   "outputs": [
    {
     "name": "stdout",
     "output_type": "stream",
     "text": [
      "{1: 1, 2: 2, 3: 2, 4: 4, 5: 3, 6: 1}\n"
     ]
    }
   ],
   "source": [
    "#practical quetion\n",
    "#use a dictionary to count the frequency of element in list\n",
    "\n",
    "numbers = [1,2,2,3,3,4,4,4,4,5,5,5,6]\n",
    "frequency = {}\n",
    "\n",
    "for number in numbers:\n",
    "    if number in frequency:\n",
    "        frequency[number]+=1\n",
    "\n",
    "    else:\n",
    "        frequency[number]=1\n",
    "print(frequency)"
   ]
  },
  {
   "cell_type": "code",
   "execution_count": 43,
   "id": "1469a2b4",
   "metadata": {},
   "outputs": [
    {
     "name": "stdout",
     "output_type": "stream",
     "text": [
      "{'a': 1, 'b': 3, 'c': 4}\n"
     ]
    }
   ],
   "source": [
    "#merge two dictionary into one\n",
    "\n",
    "dict1 = {\"a\":1,\"b\":2}\n",
    "dict2 = {\"b\":3,\"c\":4}\n",
    "merged_dict = {**dict1,**dict2}\n",
    "print(merged_dict)"
   ]
  },
  {
   "cell_type": "code",
   "execution_count": 4,
   "id": "af2adc26",
   "metadata": {},
   "outputs": [
    {
     "name": "stdout",
     "output_type": "stream",
     "text": [
      "Don't forget to pay the utility bills\n",
      "To do list remaining\n",
      "-Buy Groceries\n",
      "-pay bill\n",
      "-Schedule meeting\n",
      "-Go for run\n"
     ]
    }
   ],
   "source": [
    "#real world usecase of lists\n",
    "#manage a to do list\n",
    "\n",
    "to_do_list = [\"Buy Groceries\",\"clean the house\",\"pay bill\"]\n",
    "\n",
    "#adding to task\n",
    "to_do_list.append(\"Schedule meeting\")\n",
    "to_do_list.append(\"Go for run\")\n",
    "\n",
    "##removing a completed task\n",
    "to_do_list.remove(\"clean the house\")\n",
    "\n",
    "#checking if a task in the list\n",
    "\n",
    "if \"pay bill\" in to_do_list:\n",
    "    print(\"Don't forget to pay the utility bills\")\n",
    "\n",
    "print(\"To do list remaining\")\n",
    "\n",
    "for task in to_do_list:\n",
    "    print(f\"-{task}\")"
   ]
  },
  {
   "cell_type": "code",
   "execution_count": 6,
   "id": "c9390347",
   "metadata": {},
   "outputs": [
    {
     "name": "stdout",
     "output_type": "stream",
     "text": [
      "Average Grade:88.00\n",
      "highest grade: 95\n",
      "lowest grade : 78\n"
     ]
    }
   ],
   "source": [
    "#create a list to store and calculate avg grade of student\n",
    "grades = [85,92,78,90,88]\n",
    "\n",
    "grades.append(95)\n",
    "\n",
    "average_grade = sum(grades)/len(grades)\n",
    "print(f\"Average Grade:{average_grade:.2f}\")\n",
    "\n",
    "highest_grade = max(grades)\n",
    "lowest_grade = min(grades)\n",
    "\n",
    "print(f\"highest grade: {highest_grade}\")\n",
    "print(f\"lowest grade : {lowest_grade}\")"
   ]
  },
  {
   "cell_type": "code",
   "execution_count": 9,
   "id": "979ab202",
   "metadata": {},
   "outputs": [
    {
     "name": "stdout",
     "output_type": "stream",
     "text": [
      "orange are in stock\n",
      "inventory list\n",
      "-apple\n",
      "-orange\n",
      "-gapes\n",
      "-strawberries\n"
     ]
    }
   ],
   "source": [
    "inventory = [\"apple\",\"orange\",\"gapes\",\"strawberries\"]\n",
    "\n",
    "inventory.append(\"banana\")\n",
    "\n",
    "inventory.remove(\"banana\")\n",
    "\n",
    "item  = \"orange\"\n",
    "\n",
    "if item in inventory:\n",
    "    print(f\"{item} are in stock\")\n",
    "\n",
    "else:\n",
    "    print(f\"{item} are out of stock\")\n",
    "\n",
    "print(\"inventory list\")\n",
    "\n",
    "for item in inventory:\n",
    "    print(f\"-{item}\")"
   ]
  },
  {
   "cell_type": "code",
   "execution_count": null,
   "id": "ffa1cdee",
   "metadata": {},
   "outputs": [
    {
     "name": "stdout",
     "output_type": "stream",
     "text": [
      "Positive feedback count : 2\n",
      "user feedback :\n",
      "-Great service!\n",
      "-very satisfied\n",
      "-could be better\n",
      "-excellent experience\n",
      "-not happy with the service\n"
     ]
    },
    {
     "ename": "",
     "evalue": "",
     "output_type": "error",
     "traceback": [
      "\u001b[1;31mThe Kernel crashed while executing code in the current cell or a previous cell. \n",
      "\u001b[1;31mPlease review the code in the cell(s) to identify a possible cause of the failure. \n",
      "\u001b[1;31mClick <a href='https://aka.ms/vscodeJupyterKernelCrash'>here</a> for more info. \n",
      "\u001b[1;31mView Jupyter <a href='command:jupyter.viewOutput'>log</a> for further details."
     ]
    }
   ],
   "source": [
    "#collecting user feedback\n",
    "feedback = [\"Great service!\",\"very satisfied\",\"could be better\",\"excellent experience\"]\n",
    "\n",
    "feedback.append(\"not happy with the service\")\n",
    "positive_feedback_count = sum(1 for comment in feedback if \"great\" in comment.lower() or \"excellent\" in comment.lower())\n",
    "print(f\"Positive feedback count : {positive_feedback_count}\")\n",
    "\n",
    "print(\"user feedback :\")\n",
    "for comment in feedback:\n",
    "    print(f\"-{comment}\")"
   ]
  },
  {
   "cell_type": "markdown",
   "id": "d5bcdc63",
   "metadata": {},
   "source": []
  }
 ],
 "metadata": {
  "kernelspec": {
   "display_name": "Python 3",
   "language": "python",
   "name": "python3"
  },
  "language_info": {
   "codemirror_mode": {
    "name": "ipython",
    "version": 3
   },
   "file_extension": ".py",
   "mimetype": "text/x-python",
   "name": "python",
   "nbconvert_exporter": "python",
   "pygments_lexer": "ipython3",
   "version": "3.13.1"
  }
 },
 "nbformat": 4,
 "nbformat_minor": 5
}
