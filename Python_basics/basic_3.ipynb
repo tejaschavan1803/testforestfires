{
 "cells": [
  {
   "cell_type": "code",
   "execution_count": null,
   "id": "ac423eef",
   "metadata": {},
   "outputs": [
    {
     "name": "stdout",
     "output_type": "stream",
     "text": [
      "23 :number is odd\n"
     ]
    },
    {
     "ename": "",
     "evalue": "",
     "output_type": "error",
     "traceback": [
      "\u001b[1;31mThe Kernel crashed while executing code in the current cell or a previous cell. \n",
      "\u001b[1;31mPlease review the code in the cell(s) to identify a possible cause of the failure. \n",
      "\u001b[1;31mClick <a href='https://aka.ms/vscodeJupyterKernelCrash'>here</a> for more info. \n",
      "\u001b[1;31mView Jupyter <a href='command:jupyter.viewOutput'>log</a> for further details."
     ]
    }
   ],
   "source": [
    "#function\n",
    "#syntax\n",
    "\n",
    "def even_or_odd(num):\n",
    "    \"\"\"This function performs even or odds\"\"\"\n",
    "    if num%2==0:\n",
    "        print(f\"{num} :number is even \")\n",
    "    else:\n",
    "        print(f\"{num} :number is odd\")\n",
    "\n",
    "\n",
    "even_or_odd(23)\n",
    "\n",
    "\n",
    "\n",
    "\n",
    "\n"
   ]
  },
  {
   "cell_type": "code",
   "execution_count": 2,
   "id": "23c673ba",
   "metadata": {},
   "outputs": [
    {
     "name": "stdout",
     "output_type": "stream",
     "text": [
      "6\n"
     ]
    }
   ],
   "source": [
    "def add_num(a,b):\n",
    "    return a+b \n",
    "\n",
    "add = add_num(2,4)\n",
    "print(add)   "
   ]
  },
  {
   "cell_type": "code",
   "execution_count": 6,
   "id": "a65727fe",
   "metadata": {},
   "outputs": [
    {
     "name": "stdout",
     "output_type": "stream",
     "text": [
      "hello ! tejas welcome to the paradise\n"
     ]
    }
   ],
   "source": [
    "#default parameters\n",
    "\n",
    "def greet(name):\n",
    "    print(f\"hello ! {name} welcome to the paradise\")\n",
    "\n",
    "greet(\"tejas\")"
   ]
  },
  {
   "cell_type": "code",
   "execution_count": null,
   "id": "e43c154d",
   "metadata": {},
   "outputs": [],
   "source": [
    "#default value\n",
    "def greet(name=\"guest\"):\n",
    "    print(f\"hello ! {name} welcome to the paradise\")\n",
    "\n",
    "greet()"
   ]
  },
  {
   "cell_type": "code",
   "execution_count": 8,
   "id": "b15727d7",
   "metadata": {},
   "outputs": [
    {
     "name": "stdout",
     "output_type": "stream",
     "text": [
      "1\n",
      "2\n",
      "3\n",
      "4\n",
      "5\n",
      "6\n",
      "7\n",
      "8\n",
      "tejas\n",
      "chavan\n"
     ]
    }
   ],
   "source": [
    "#variable and lenght argument\n",
    "#positional and keyword arguments\n",
    "\n",
    "def print_number(*args):\n",
    "    for number in args:\n",
    "        print(number)\n",
    "\n",
    "\n",
    "print_number(1,2,3,4,5,6,7,8,\"tejas\",\"chavan\")"
   ]
  },
  {
   "cell_type": "code",
   "execution_count": null,
   "id": "f251bb27",
   "metadata": {},
   "outputs": [
    {
     "name": "stdout",
     "output_type": "stream",
     "text": [
      "name:tejas\n",
      "age:32\n",
      "country:India\n"
     ]
    }
   ],
   "source": [
    "#keyword argument\n",
    "\n",
    "def print_detail(**kwargs):\n",
    "    for key,value in kwargs.items():\n",
    "        print(f\"{key}:{value}\")\n",
    "\n",
    "print_detail(name=\"tejas\",age =\"32\",country = \"India\")\n",
    "    "
   ]
  },
  {
   "cell_type": "code",
   "execution_count": 12,
   "id": "e34883d0",
   "metadata": {},
   "outputs": [
    {
     "name": "stdout",
     "output_type": "stream",
     "text": [
      "positional argument : 1\n",
      "positional argument : 2\n",
      "positional argument : 3\n",
      "positional argument : 4\n",
      "positional argument : tejas\n",
      "name:tejas\n",
      "age:32\n",
      "country:India\n"
     ]
    }
   ],
   "source": [
    "def print_detail(*args,**kwargs):\n",
    "    for val in args:\n",
    "        print(f\"positional argument : {val}\")\n",
    "\n",
    "    for key,value in kwargs.items():\n",
    "           print(f\"{key}:{value}\")\n",
    "\n",
    "print_detail(1,2,3,4,\"tejas\",name=\"tejas\",age =\"32\",country = \"India\")\n",
    "\n",
    "\n",
    "    "
   ]
  },
  {
   "cell_type": "code",
   "execution_count": 15,
   "id": "3de3509b",
   "metadata": {},
   "outputs": [
    {
     "data": {
      "text/plain": [
       "6"
      ]
     },
     "execution_count": 15,
     "metadata": {},
     "output_type": "execute_result"
    }
   ],
   "source": [
    "#return statement\n",
    "\n",
    "def multiply(a,b):\n",
    "    return a *b\n",
    "\n",
    "multiply(2,3)"
   ]
  },
  {
   "cell_type": "code",
   "execution_count": null,
   "id": "006d128e",
   "metadata": {},
   "outputs": [],
   "source": [
    "#return multiple parameter\n",
    "\n",
    "def multiply(a,b):\n",
    "    return a *b,a,b\n",
    "\n",
    "multiply(2,3)"
   ]
  },
  {
   "cell_type": "code",
   "execution_count": 4,
   "id": "ceccbaaf",
   "metadata": {},
   "outputs": [
    {
     "name": "stdout",
     "output_type": "stream",
     "text": [
      "77.0\n",
      "25.0\n"
     ]
    }
   ],
   "source": [
    "\n",
    "#function example\n",
    "\n",
    "#temprature conversion\n",
    "def convert_temprature(temp,unit):\n",
    "    \"\"\"This function converts temprature between celsius to fahrenheit\"\"\"\n",
    "    if unit == \"C\":\n",
    "        return temp * 9/5 + 32    #celsius to Fahrenheit\n",
    "    \n",
    "    elif unit == \"F\":\n",
    "        return (temp - 32) * 5/9   #fahrenheit to celsius\n",
    "    \n",
    "    else:\n",
    "        return None\n",
    "    \n",
    "print(convert_temprature(25,\"C\"))\n",
    "print(convert_temprature(77,\"F\"))"
   ]
  },
  {
   "cell_type": "code",
   "execution_count": 7,
   "id": "1e7fed9b",
   "metadata": {},
   "outputs": [
    {
     "name": "stdout",
     "output_type": "stream",
     "text": [
      "False\n",
      "True\n"
     ]
    }
   ],
   "source": [
    "#password strengh checker\n",
    "\n",
    "def is_strong_pass(password):\n",
    "    \"\"\"This function check if password is strong or not\"\"\"\n",
    "    if len(password) < 8:\n",
    "        return False\n",
    "    if not any(char.isdigit() for char in password):\n",
    "        return False\n",
    "    if not any(char.islower() for char in password):\n",
    "        return False\n",
    "    if not any(char.isupper() for char in password):\n",
    "        return False\n",
    "    if not any(char in \"12345678()\" for char in password):\n",
    "        return False\n",
    "    \n",
    "    return True\n",
    "\n",
    "print(is_strong_pass(\"WeakPwd\"))\n",
    "print(is_strong_pass(\"Tejas@180803\"))"
   ]
  },
  {
   "cell_type": "markdown",
   "id": "501a9ef5",
   "metadata": {},
   "source": [
    "calculate the total cost of item in a shopping cart\n"
   ]
  },
  {
   "cell_type": "code",
   "execution_count": 11,
   "id": "f1026ba5",
   "metadata": {},
   "outputs": [
    {
     "name": "stdout",
     "output_type": "stream",
     "text": [
      "5.8999999999999995\n"
     ]
    },
    {
     "data": {
      "text/plain": [
       "5.8999999999999995"
      ]
     },
     "execution_count": 11,
     "metadata": {},
     "output_type": "execute_result"
    }
   ],
   "source": [
    "def calculate_total_cost(cart):\n",
    "    total_cost = 0\n",
    "    for item in cart:\n",
    "        total_cost += item[\"price\"] * item[\"quantity\"]\n",
    "\n",
    "    return total_cost\n",
    "\n",
    "#example cart data\n",
    "\n",
    "cart = [{\"name\":\"apple\",\"price\":0.5,\"quantity\":4},\n",
    "        {\"name\":\"banana\",\"price\":0.3,\"quantity\":6},\n",
    "        {\"name\":\"Orange\",\"price\":0.7,\"quantity\":3}\n",
    "]\n",
    "\n",
    "\n",
    "total_cost = calculate_total_cost(cart)\n",
    "print(total_cost)\n",
    "\n",
    "calculate_total_cost(cart = [{\"name\":\"apple\",\"price\":0.5,\"quantity\":4},\n",
    "        {\"name\":\"banana\",\"price\":0.3,\"quantity\":6},\n",
    "        {\"name\":\"Orange\",\"price\":0.7,\"quantity\":3}])"
   ]
  },
  {
   "cell_type": "markdown",
   "id": "2851df1f",
   "metadata": {},
   "source": [
    "check if a string is palindrome"
   ]
  },
  {
   "cell_type": "code",
   "execution_count": 16,
   "id": "72151979",
   "metadata": {},
   "outputs": [
    {
     "name": "stdout",
     "output_type": "stream",
     "text": [
      "True\n",
      "True\n"
     ]
    }
   ],
   "source": [
    "def is_palindrome(s):\n",
    "    s=s.lower().replace(\" \",\"\")\n",
    "    return s==s[::-1]\n",
    "\n",
    "print(is_palindrome(\"A man a plan a canal Panama\"))\n",
    "print(is_palindrome(\"heleh\"))\n"
   ]
  },
  {
   "cell_type": "code",
   "execution_count": 1,
   "id": "5410a34c",
   "metadata": {},
   "outputs": [
    {
     "name": "stdout",
     "output_type": "stream",
     "text": [
      "120\n",
      "720\n"
     ]
    },
    {
     "data": {
      "text/plain": [
       "6"
      ]
     },
     "execution_count": 1,
     "metadata": {},
     "output_type": "execute_result"
    }
   ],
   "source": [
    "#calculate the factorial of a number using recursion\n",
    "\n",
    "def factorial(n):\n",
    "    if n == 0:\n",
    "        return 1\n",
    "    else:\n",
    "        return n * factorial(n-1)\n",
    "    \n",
    "print(factorial(5))\n",
    "print(factorial(6))\n",
    "factorial(3)"
   ]
  },
  {
   "cell_type": "code",
   "execution_count": null,
   "id": "15ebd831",
   "metadata": {},
   "outputs": [],
   "source": []
  },
  {
   "cell_type": "code",
   "execution_count": 6,
   "id": "f8bfd389",
   "metadata": {},
   "outputs": [
    {
     "name": "stdout",
     "output_type": "stream",
     "text": [
      "{'hello': 1, 'world': 1, 'how': 1, 'are': 1, 'you': 1, 'my': 1, 'name': 1, 'is': 1, 'krish': 2}\n"
     ]
    }
   ],
   "source": [
    "def count_word_frequency(file_path):\n",
    "    word_count = {}\n",
    "    with open(file_path,'r') as file:\n",
    "        for line in file:\n",
    "            words = line.split()\n",
    "            for word in words:\n",
    "                word = word.lower().strip('.,!?;:\"\\'')\n",
    "                word_count[word] = word_count.get(word,0)+1\n",
    "\n",
    "    return word_count\n",
    "\n",
    "file_path = \"C:/Users/Tejas/Desktop/Machine learning and deep learning/sample.txt\"\n",
    "word_frequency = count_word_frequency(file_path)\n",
    "print(word_frequency)"
   ]
  },
  {
   "cell_type": "code",
   "execution_count": null,
   "id": "1317dfd5",
   "metadata": {},
   "outputs": [],
   "source": []
  },
  {
   "cell_type": "markdown",
   "id": "82fa8a92",
   "metadata": {},
   "source": [
    "lambda function"
   ]
  },
  {
   "cell_type": "code",
   "execution_count": 7,
   "id": "0db03d90",
   "metadata": {},
   "outputs": [
    {
     "data": {
      "text/plain": [
       "<function __main__.<lambda>(arguments)>"
      ]
     },
     "execution_count": 7,
     "metadata": {},
     "output_type": "execute_result"
    }
   ],
   "source": [
    "#syntax\n",
    "lambda arguments : expression\n"
   ]
  },
  {
   "cell_type": "code",
   "execution_count": 9,
   "id": "2fa64c9f",
   "metadata": {},
   "outputs": [
    {
     "name": "stdout",
     "output_type": "stream",
     "text": [
      "6\n"
     ]
    }
   ],
   "source": [
    "addition  = lambda a,b : a + b\n",
    "type(addition)\n",
    "print(addition(2,4))\n"
   ]
  },
  {
   "cell_type": "code",
   "execution_count": 10,
   "id": "bc23d941",
   "metadata": {},
   "outputs": [
    {
     "data": {
      "text/plain": [
       "True"
      ]
     },
     "execution_count": 10,
     "metadata": {},
     "output_type": "execute_result"
    }
   ],
   "source": [
    "def even(num):\n",
    "    if num%2==0:\n",
    "        return True\n",
    "even(24)"
   ]
  },
  {
   "cell_type": "code",
   "execution_count": 11,
   "id": "5ff9be1a",
   "metadata": {},
   "outputs": [
    {
     "data": {
      "text/plain": [
       "True"
      ]
     },
     "execution_count": 11,
     "metadata": {},
     "output_type": "execute_result"
    }
   ],
   "source": [
    "even1 = lambda num:num%2==0\n",
    "even1(12)"
   ]
  },
  {
   "cell_type": "code",
   "execution_count": 12,
   "id": "cce7e319",
   "metadata": {},
   "outputs": [
    {
     "name": "stdout",
     "output_type": "stream",
     "text": [
      "36\n"
     ]
    }
   ],
   "source": [
    "sum1 = lambda x,y,z:x+y+z\n",
    "print(sum1(12,12,12))"
   ]
  },
  {
   "cell_type": "code",
   "execution_count": null,
   "id": "8f0a339d",
   "metadata": {},
   "outputs": [],
   "source": []
  },
  {
   "cell_type": "code",
   "execution_count": 13,
   "id": "928f6857",
   "metadata": {},
   "outputs": [
    {
     "data": {
      "text/plain": [
       "4"
      ]
     },
     "execution_count": 13,
     "metadata": {},
     "output_type": "execute_result"
    }
   ],
   "source": [
    "##map()\n",
    "numbers = [1,2,3,4,5,6]\n",
    "def square(number):\n",
    " \n",
    "    return number **2\n",
    "\n",
    "square(2)"
   ]
  },
  {
   "cell_type": "code",
   "execution_count": 15,
   "id": "1d169543",
   "metadata": {},
   "outputs": [
    {
     "data": {
      "text/plain": [
       "[1, 4, 9, 16, 25, 36]"
      ]
     },
     "execution_count": 15,
     "metadata": {},
     "output_type": "execute_result"
    }
   ],
   "source": [
    "list(map(lambda x : x**2,numbers))"
   ]
  },
  {
   "cell_type": "code",
   "execution_count": 16,
   "id": "ef62bb26",
   "metadata": {},
   "outputs": [
    {
     "data": {
      "text/plain": [
       "[1, 8, 27, 64, 125, 216]"
      ]
     },
     "execution_count": 16,
     "metadata": {},
     "output_type": "execute_result"
    }
   ],
   "source": [
    "list(map(lambda x:x**3,numbers))"
   ]
  },
  {
   "cell_type": "markdown",
   "id": "d3200014",
   "metadata": {},
   "source": [
    "Map"
   ]
  },
  {
   "cell_type": "markdown",
   "id": "2e5b532e",
   "metadata": {},
   "source": []
  },
  {
   "cell_type": "code",
   "execution_count": 19,
   "id": "dafd9deb",
   "metadata": {},
   "outputs": [
    {
     "data": {
      "text/plain": [
       "[1, 4, 9, 16, 25, 36]"
      ]
     },
     "execution_count": 19,
     "metadata": {},
     "output_type": "execute_result"
    }
   ],
   "source": [
    "numbers = [1,2,3,4,5,6]\n",
    "list(map(square,numbers))"
   ]
  },
  {
   "cell_type": "code",
   "execution_count": 21,
   "id": "b764caee",
   "metadata": {},
   "outputs": [
    {
     "data": {
      "text/plain": [
       "[1, 4, 9, 16, 25, 36, 49]"
      ]
     },
     "execution_count": 21,
     "metadata": {},
     "output_type": "execute_result"
    }
   ],
   "source": [
    "#lambda function with map\n",
    "numbers = [1,2,3,4,5,6,7]\n",
    "list(map(lambda x:x**2,numbers))"
   ]
  },
  {
   "cell_type": "code",
   "execution_count": 2,
   "id": "7b3bb169",
   "metadata": {},
   "outputs": [
    {
     "name": "stdout",
     "output_type": "stream",
     "text": [
      "[5, 7, 9]\n"
     ]
    }
   ],
   "source": [
    "#map multiple iterable\n",
    "\n",
    "number1 = [1,2,3]\n",
    "number2 = [4,5,6]\n",
    "\n",
    "added_number = list(map(lambda x,y:x+y,number1,number2))\n",
    "print(added_number)\n"
   ]
  },
  {
   "cell_type": "code",
   "execution_count": 7,
   "id": "3e6545a3",
   "metadata": {},
   "outputs": [
    {
     "name": "stdout",
     "output_type": "stream",
     "text": [
      "[1, 2, 3, 4, 5]\n",
      "<class 'list'>\n"
     ]
    }
   ],
   "source": [
    "#map() to convert a list of string to int\n",
    "\n",
    "int_number = ['1','2','3','4','5']\n",
    "int_number = list(map(int, int_number) )\n",
    "print(int_number)\n",
    "print(type(int_number))"
   ]
  },
  {
   "cell_type": "code",
   "execution_count": 15,
   "id": "613dc78b",
   "metadata": {},
   "outputs": [
    {
     "data": {
      "text/plain": [
       "[('tejas', 21), ('vinit', 22)]"
      ]
     },
     "execution_count": 15,
     "metadata": {},
     "output_type": "execute_result"
    }
   ],
   "source": [
    "def get_name(people):\n",
    "    return people['name'] ,people['age']\n",
    "\n",
    "people = [{'name':'tejas','age':21},\n",
    "          {'name':'vinit','age':22}]\n",
    "\n",
    "list(map(get_name,people))"
   ]
  },
  {
   "cell_type": "code",
   "execution_count": 11,
   "id": "9af6faba",
   "metadata": {},
   "outputs": [
    {
     "data": {
      "text/plain": [
       "[1, 4, 9, 16, 25]"
      ]
     },
     "execution_count": 11,
     "metadata": {},
     "output_type": "execute_result"
    }
   ],
   "source": [
    "def squares(num):\n",
    "    return num **2\n",
    "\n",
    "num = [1,2,3,4,5]\n",
    "list(map(squares,num))"
   ]
  },
  {
   "cell_type": "markdown",
   "id": "2543f32e",
   "metadata": {},
   "source": [
    "filter function"
   ]
  },
  {
   "cell_type": "code",
   "execution_count": 40,
   "id": "d2d563fd",
   "metadata": {},
   "outputs": [
    {
     "ename": "TypeError",
     "evalue": "'filter' object is not callable",
     "output_type": "error",
     "traceback": [
      "\u001b[31m---------------------------------------------------------------------------\u001b[39m",
      "\u001b[31mTypeError\u001b[39m                                 Traceback (most recent call last)",
      "\u001b[36mCell\u001b[39m\u001b[36m \u001b[39m\u001b[32mIn[40]\u001b[39m\u001b[32m, line 5\u001b[39m\n\u001b[32m      2\u001b[39m     \u001b[38;5;28;01mreturn\u001b[39;00m x % \u001b[32m2\u001b[39m == \u001b[32m0\u001b[39m\n\u001b[32m      4\u001b[39m lst1 = [\u001b[32m1\u001b[39m, \u001b[32m2\u001b[39m, \u001b[32m3\u001b[39m, \u001b[32m4\u001b[39m, \u001b[32m5\u001b[39m, \u001b[32m6\u001b[39m, \u001b[32m7\u001b[39m, \u001b[32m8\u001b[39m]\n\u001b[32m----> \u001b[39m\u001b[32m5\u001b[39m \u001b[38;5;28mprint\u001b[39m(\u001b[38;5;28;43mlist\u001b[39;49m\u001b[43m(\u001b[49m\u001b[38;5;28;43mfilter\u001b[39;49m\u001b[43m(\u001b[49m\u001b[43meven\u001b[49m\u001b[43m,\u001b[49m\u001b[43m \u001b[49m\u001b[43mlst1\u001b[49m\u001b[43m)\u001b[49m\u001b[43m)\u001b[49m)\n",
      "\u001b[31mTypeError\u001b[39m: 'filter' object is not callable"
     ]
    }
   ],
   "source": [
    "def even(x):\n",
    "    return x % 2 == 0\n",
    "\n",
    "lst1 = [1, 2, 3, 4, 5, 6, 7, 8]\n",
    "print(list(filter(even, lst1)))\n"
   ]
  },
  {
   "cell_type": "code",
   "execution_count": null,
   "id": "a12c46b0",
   "metadata": {},
   "outputs": [
    {
     "ename": "NameError",
     "evalue": "name 'even1' is not defined",
     "output_type": "error",
     "traceback": [
      "\u001b[31m---------------------------------------------------------------------------\u001b[39m",
      "\u001b[31mNameError\u001b[39m                                 Traceback (most recent call last)",
      "\u001b[36mCell\u001b[39m\u001b[36m \u001b[39m\u001b[32mIn[36]\u001b[39m\u001b[32m, line 3\u001b[39m\n\u001b[32m      1\u001b[39m lst1 = [\u001b[32m1\u001b[39m,\u001b[32m2\u001b[39m,\u001b[32m3\u001b[39m,\u001b[32m4\u001b[39m,\u001b[32m5\u001b[39m,\u001b[32m6\u001b[39m,\u001b[32m7\u001b[39m,\u001b[32m8\u001b[39m]\n\u001b[32m----> \u001b[39m\u001b[32m3\u001b[39m \u001b[38;5;28mprint\u001b[39m(\u001b[38;5;28mlist\u001b[39m(\u001b[38;5;28mfilter\u001b[39m(\u001b[43meven1\u001b[49m,lst1)))\n",
      "\u001b[31mNameError\u001b[39m: name 'even1' is not defined"
     ]
    }
   ],
   "source": []
  }
 ],
 "metadata": {
  "kernelspec": {
   "display_name": "Python 3",
   "language": "python",
   "name": "python3"
  },
  "language_info": {
   "codemirror_mode": {
    "name": "ipython",
    "version": 3
   },
   "file_extension": ".py",
   "mimetype": "text/x-python",
   "name": "python",
   "nbconvert_exporter": "python",
   "pygments_lexer": "ipython3",
   "version": "3.13.1"
  }
 },
 "nbformat": 4,
 "nbformat_minor": 5
}
