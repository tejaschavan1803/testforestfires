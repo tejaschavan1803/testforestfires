{
 "cells": [
  {
   "cell_type": "code",
   "execution_count": 1,
   "id": "b8f1b164",
   "metadata": {},
   "outputs": [
    {
     "name": "stdout",
     "output_type": "stream",
     "text": [
      "[2, 4, 6]\n"
     ]
    }
   ],
   "source": [
    "#filter function\n",
    "\n",
    "def even(num):\n",
    "    if num%2==0:\n",
    "        return True\n",
    "    \n",
    "numbers = [1,2,3,4,5,6,]\n",
    "print(list(filter(even,numbers)))"
   ]
  },
  {
   "cell_type": "code",
   "execution_count": 4,
   "id": "bb30a476",
   "metadata": {},
   "outputs": [
    {
     "name": "stdout",
     "output_type": "stream",
     "text": [
      "[6, 7, 8, 9, 10]\n"
     ]
    }
   ],
   "source": [
    "num1 = [1,2,3,4,5,6,7,8,9,10]\n",
    "\n",
    "greater_than_5 = list(filter(lambda x:x > 5,num1))\n",
    "print(greater_than_5)"
   ]
  },
  {
   "cell_type": "code",
   "execution_count": 5,
   "id": "b27d8cb4",
   "metadata": {},
   "outputs": [
    {
     "name": "stdout",
     "output_type": "stream",
     "text": [
      "[6, 8, 10]\n"
     ]
    }
   ],
   "source": [
    "##filter with lambda function and multiple conditions\n",
    "num1 = [1,2,3,4,5,6,7,8,9,10]\n",
    "even_and_greater_than_five = list(filter(lambda x:x>5 and x%2==0,num1))\n",
    "\n",
    "print(even_and_greater_than_five)"
   ]
  },
  {
   "cell_type": "code",
   "execution_count": 9,
   "id": "2dae36ef",
   "metadata": {},
   "outputs": [
    {
     "data": {
      "text/plain": [
       "[{'name': 'tejas', 'age': 26}, {'name': 'vovo', 'age': 32}]"
      ]
     },
     "execution_count": 9,
     "metadata": {},
     "output_type": "execute_result"
    }
   ],
   "source": [
    "##filter() to check if the age is greater than 25 in dictionaries:\n",
    "\n",
    "def get_age(dict):\n",
    "    return dict['age'] > 25\n",
    "\n",
    "dict = [{'name':'tejas','age':26},\n",
    "        {'name':'vovo','age':32}]\n",
    "list(filter(get_age,dict))\n"
   ]
  },
  {
   "cell_type": "code",
   "execution_count": 1,
   "id": "0000bf87",
   "metadata": {},
   "outputs": [
    {
     "data": {
      "text/plain": [
       "[{'name': 'krish', 'age': 32}, {'name': 'jack', 'age': 33}]"
      ]
     },
     "execution_count": 1,
     "metadata": {},
     "output_type": "execute_result"
    }
   ],
   "source": [
    "people = [{'name':'krish','age':32},\n",
    "          {'name':'jack','age':33},\n",
    "          {'name':'john','age':25}]\n",
    "\n",
    "def age_greater_than_25(person):\n",
    "    return person['age'] > 25\n",
    "\n",
    "list(filter(age_greater_than_25,people))"
   ]
  },
  {
   "cell_type": "code",
   "execution_count": null,
   "id": "7f66584e",
   "metadata": {},
   "outputs": [],
   "source": []
  }
 ],
 "metadata": {
  "kernelspec": {
   "display_name": "Python 3",
   "language": "python",
   "name": "python3"
  },
  "language_info": {
   "codemirror_mode": {
    "name": "ipython",
    "version": 3
   },
   "file_extension": ".py",
   "mimetype": "text/x-python",
   "name": "python",
   "nbconvert_exporter": "python",
   "pygments_lexer": "ipython3",
   "version": "3.13.1"
  }
 },
 "nbformat": 4,
 "nbformat_minor": 5
}
