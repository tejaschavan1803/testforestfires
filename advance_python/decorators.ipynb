{
 "cells": [
  {
   "cell_type": "code",
   "execution_count": 42,
   "id": "cf1b43ec",
   "metadata": {},
   "outputs": [],
   "source": [
    "##function copy\n",
    "#closures\n",
    "#decorators\n",
    "\n"
   ]
  },
  {
   "cell_type": "code",
   "execution_count": 9,
   "id": "c5401593",
   "metadata": {},
   "outputs": [
    {
     "data": {
      "text/plain": [
       "'tejas welcome to the advance python course'"
      ]
     },
     "execution_count": 9,
     "metadata": {},
     "output_type": "execute_result"
    }
   ],
   "source": [
    "##function copy\n",
    "def welcome(name):\n",
    "    return f\"{name} welcome to the advance python course\"\n",
    "\n",
    "\n",
    "welcome(\"tejas\")\n"
   ]
  },
  {
   "cell_type": "code",
   "execution_count": 10,
   "id": "b3429a81",
   "metadata": {},
   "outputs": [
    {
     "name": "stdout",
     "output_type": "stream",
     "text": [
      "tejas welcome to the advance python course\n",
      "tejas welcome to the advance python course\n"
     ]
    }
   ],
   "source": [
    "wel=welcome\n",
    "print(wel(\"tejas\"))\n",
    "del welcome\n",
    "print(wel(\"tejas\"))"
   ]
  },
  {
   "cell_type": "code",
   "execution_count": 14,
   "id": "b44b5b19",
   "metadata": {},
   "outputs": [],
   "source": [
    "##closures functions \n",
    "\n",
    "def main_welcome(func):\n",
    "    \n",
    "    def sub_welcome_method():\n",
    "        print(\"welcome to the advance python course\")\n",
    "\n",
    "        func(\"welcome everyone\")\n",
    "\n",
    "        print(\"please learn these concept properly\")\n",
    "\n",
    "    return sub_welcome_method()\n"
   ]
  },
  {
   "cell_type": "code",
   "execution_count": 15,
   "id": "5100c4f3",
   "metadata": {},
   "outputs": [
    {
     "name": "stdout",
     "output_type": "stream",
     "text": [
      "welcome to the advance python course\n",
      "welcome everyone\n",
      "please learn these concept properly\n"
     ]
    }
   ],
   "source": [
    "main_welcome(print)"
   ]
  },
  {
   "cell_type": "code",
   "execution_count": 52,
   "id": "7a58e546",
   "metadata": {},
   "outputs": [],
   "source": [
    "def main_welcome(func,lst):\n",
    "    \n",
    "    def sub_welcome_method():\n",
    "        print(\"welcome to the advance python course\")\n",
    "\n",
    "        print(func(lst))\n",
    "\n",
    "        print(\"please learn these concept properly\")\n",
    "\n",
    "    return sub_welcome_method()"
   ]
  },
  {
   "cell_type": "code",
   "execution_count": 53,
   "id": "2e8fb60a",
   "metadata": {},
   "outputs": [
    {
     "name": "stdout",
     "output_type": "stream",
     "text": [
      "welcome to the advance python course\n",
      "6\n",
      "please learn these concept properly\n"
     ]
    }
   ],
   "source": [
    "main_welcome(len,[1,2,3,4,5,6])"
   ]
  },
  {
   "cell_type": "code",
   "execution_count": 44,
   "id": "9ed901ea",
   "metadata": {},
   "outputs": [
    {
     "name": "stdout",
     "output_type": "stream",
     "text": [
      "welcome to the advance python course\n",
      "welcome\n",
      "please learn these concept properly\n"
     ]
    }
   ],
   "source": [
    "main_welcome()"
   ]
  },
  {
   "cell_type": "code",
   "execution_count": null,
   "id": "5945e2f2",
   "metadata": {},
   "outputs": [],
   "source": []
  },
  {
   "cell_type": "code",
   "execution_count": 16,
   "id": "8e277790",
   "metadata": {},
   "outputs": [],
   "source": [
    "\n",
    "def main_welcome():\n",
    "    msg = \"welcome\"\n",
    "    def sub_welcome_method():\n",
    "        print(\"welcome to the advance python course\")\n",
    "\n",
    "        print(msg)\n",
    "\n",
    "        print(\"please learn these concept properly\")\n",
    "\n",
    "    return sub_welcome_method()"
   ]
  },
  {
   "cell_type": "code",
   "execution_count": 17,
   "id": "9210ce7a",
   "metadata": {},
   "outputs": [
    {
     "name": "stdout",
     "output_type": "stream",
     "text": [
      "welcome to the advance python course\n",
      "welcome\n",
      "please learn these concept properly\n"
     ]
    }
   ],
   "source": [
    "main_welcome()"
   ]
  },
  {
   "cell_type": "code",
   "execution_count": null,
   "id": "32c2067e",
   "metadata": {},
   "outputs": [],
   "source": [
    "#decorators\n",
    "\n",
    "def main_welcome(func):\n",
    "    \n",
    "    def sub_welcome_method():\n",
    "        print(\"welcome to the advance python course\")\n",
    "\n",
    "        func()\n",
    "        \n",
    "\n",
    "        print(\"please learn these concept properly\")\n",
    "\n",
    "    return sub_welcome_method()"
   ]
  },
  {
   "cell_type": "code",
   "execution_count": 56,
   "id": "4179c0b0",
   "metadata": {},
   "outputs": [],
   "source": [
    "def course_introduction():\n",
    "    print(\"this is an advance course\")"
   ]
  },
  {
   "cell_type": "code",
   "execution_count": 57,
   "id": "2cff615d",
   "metadata": {},
   "outputs": [
    {
     "name": "stdout",
     "output_type": "stream",
     "text": [
      "welcome to the advance python course\n",
      "this is an advance course\n",
      "please learn these concept properly\n"
     ]
    }
   ],
   "source": [
    "main_welcome(course_introduction)"
   ]
  },
  {
   "cell_type": "code",
   "execution_count": null,
   "id": "9e726e2c",
   "metadata": {},
   "outputs": [],
   "source": []
  },
  {
   "cell_type": "code",
   "execution_count": 61,
   "id": "1de580c2",
   "metadata": {},
   "outputs": [
    {
     "name": "stdout",
     "output_type": "stream",
     "text": [
      "welcome to the advance python course\n",
      "this is an advance course\n",
      "please learn these concept properly\n"
     ]
    }
   ],
   "source": [
    "@main_welcome\n",
    "def course_introduction():\n",
    "    print(\"this is an advance course\")"
   ]
  },
  {
   "cell_type": "code",
   "execution_count": 62,
   "id": "a65f882f",
   "metadata": {},
   "outputs": [
    {
     "name": "stdout",
     "output_type": "stream",
     "text": [
      "welcome to the advance python course\n",
      "25 student is present\n",
      "please learn these concept properly\n"
     ]
    }
   ],
   "source": [
    "@main_welcome\n",
    "def student_information():\n",
    "    print(\"25 student is present\")"
   ]
  },
  {
   "cell_type": "code",
   "execution_count": null,
   "id": "676fa919",
   "metadata": {},
   "outputs": [],
   "source": []
  },
  {
   "cell_type": "code",
   "execution_count": 68,
   "id": "f190f869",
   "metadata": {},
   "outputs": [],
   "source": [
    "#decorator\n",
    "def my_decorator(func):\n",
    "    def wrapper():\n",
    "        print(\"something is happening before the function is called.\")\n",
    "        func()\n",
    "        print(\"something is happening is after the function is called\")\n",
    "\n",
    "    return wrapper"
   ]
  },
  {
   "cell_type": "code",
   "execution_count": 73,
   "id": "dabaab3f",
   "metadata": {},
   "outputs": [],
   "source": [
    "@my_decorator\n",
    "def say_hello():\n",
    "    print(\"hello\")"
   ]
  },
  {
   "cell_type": "code",
   "execution_count": 74,
   "id": "1d672020",
   "metadata": {},
   "outputs": [
    {
     "name": "stdout",
     "output_type": "stream",
     "text": [
      "something is happening before the function is called.\n",
      "hello\n",
      "something is happening is after the function is called\n"
     ]
    }
   ],
   "source": [
    "say_hello()"
   ]
  },
  {
   "cell_type": "code",
   "execution_count": null,
   "id": "54c6c0f6",
   "metadata": {},
   "outputs": [],
   "source": []
  },
  {
   "cell_type": "code",
   "execution_count": 75,
   "id": "a007ba55",
   "metadata": {},
   "outputs": [],
   "source": [
    "#decorators with arguments\n",
    "\n",
    "def repeat(n):\n",
    "    def decorator(func):\n",
    "        def wrapper(*args,**kwargs):\n",
    "            for _ in range(n):\n",
    "                func(*args,**kwargs)\n",
    "\n",
    "        return wrapper\n",
    "    return decorator\n"
   ]
  },
  {
   "cell_type": "code",
   "execution_count": null,
   "id": "3e62829e",
   "metadata": {},
   "outputs": [],
   "source": [
    "@repeat(3)\n",
    "def say_hello(args,kwrds):\n",
    "    print(\"postitiona:\",args)\n"
   ]
  },
  {
   "cell_type": "code",
   "execution_count": 77,
   "id": "491bb138",
   "metadata": {},
   "outputs": [
    {
     "name": "stdout",
     "output_type": "stream",
     "text": [
      "hello\n",
      "hello\n",
      "hello\n"
     ]
    }
   ],
   "source": [
    "say_hello()"
   ]
  }
 ],
 "metadata": {
  "kernelspec": {
   "display_name": "Python 3",
   "language": "python",
   "name": "python3"
  },
  "language_info": {
   "codemirror_mode": {
    "name": "ipython",
    "version": 3
   },
   "file_extension": ".py",
   "mimetype": "text/x-python",
   "name": "python",
   "nbconvert_exporter": "python",
   "pygments_lexer": "ipython3",
   "version": "3.13.1"
  }
 },
 "nbformat": 4,
 "nbformat_minor": 5
}
