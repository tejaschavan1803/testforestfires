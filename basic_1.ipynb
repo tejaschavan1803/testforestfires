{
 "cells": [
  {
   "cell_type": "code",
   "execution_count": 2,
   "id": "b7587319",
   "metadata": {},
   "outputs": [
    {
     "name": "stdout",
     "output_type": "stream",
     "text": [
      "<class 'list'>\n"
     ]
    }
   ],
   "source": [
    "lst = []\n",
    "print(type(lst))"
   ]
  },
  {
   "cell_type": "code",
   "execution_count": 10,
   "id": "574842ae",
   "metadata": {},
   "outputs": [
    {
     "name": "stdout",
     "output_type": "stream",
     "text": [
      "['krish', 'Jack', 1, 2, 3, 4, 5] <class 'list'>\n"
     ]
    }
   ],
   "source": [
    "name = [\"krish\",\"Jack\",1,2,3,4,5]\n",
    "print(name,type(name))\n"
   ]
  },
  {
   "cell_type": "code",
   "execution_count": 12,
   "id": "d3dde42e",
   "metadata": {},
   "outputs": [
    {
     "name": "stdout",
     "output_type": "stream",
     "text": [
      "<class 'list'>\n",
      "[1, 'Hello']\n"
     ]
    }
   ],
   "source": [
    "mixed_list = [1,\"Hello\"]\n",
    "print(type(mixed_list))\n",
    "print(mixed_list)\n"
   ]
  },
  {
   "cell_type": "markdown",
   "id": "9d988ecf",
   "metadata": {},
   "source": []
  },
  {
   "cell_type": "code",
   "execution_count": 1,
   "id": "86b64a9c",
   "metadata": {},
   "outputs": [
    {
     "name": "stdout",
     "output_type": "stream",
     "text": [
      "apple <class 'list'>\n"
     ]
    }
   ],
   "source": [
    "#accessing ite\n",
    "fruits = [\"banana\",\"apple\",\"orange\"]\n",
    "fruits[0]\n",
    "fruits[2]\n",
    "print(fruits[1],type(fruits))"
   ]
  },
  {
   "cell_type": "code",
   "execution_count": 19,
   "id": "d19edb9b",
   "metadata": {},
   "outputs": [
    {
     "name": "stdout",
     "output_type": "stream",
     "text": [
      "['apple', 'orange']\n"
     ]
    }
   ],
   "source": [
    "print(fruits[1:])"
   ]
  },
  {
   "cell_type": "code",
   "execution_count": 20,
   "id": "fb0a2eb2",
   "metadata": {},
   "outputs": [
    {
     "name": "stdout",
     "output_type": "stream",
     "text": [
      "['banana', 'watermelon', 'orange']\n"
     ]
    }
   ],
   "source": [
    "##modifying list element\n",
    "fruits[1] = \"watermelon\"\n",
    "print(fruits)"
   ]
  },
  {
   "cell_type": "code",
   "execution_count": 3,
   "id": "8e9845d0",
   "metadata": {},
   "outputs": [
    {
     "name": "stdout",
     "output_type": "stream",
     "text": [
      "[0, 2, 3, 4, 5, 6]\n"
     ]
    }
   ],
   "source": [
    "numbers = [1,2,3,4,5,6]\n",
    "numbers[1]\n",
    "numbers[0] = 0\n",
    "print(numbers)"
   ]
  },
  {
   "cell_type": "code",
   "execution_count": 38,
   "id": "c160c219",
   "metadata": {},
   "outputs": [
    {
     "data": {
      "text/plain": [
       "['banana', 'grapes', 'apple', 'orange', 'kiwi']"
      ]
     },
     "execution_count": 38,
     "metadata": {},
     "output_type": "execute_result"
    }
   ],
   "source": [
    "#list method\n",
    "fruits = [\"banana\",\"apple\",\"orange\"]\n",
    "fruits.append(\"kiwi\")\n",
    "fruits\n",
    "fruits.insert(1,\"grapes\")\n",
    "fruits.insert(1,\"grapes\")\n",
    "fruits\n",
    "#remove\n",
    "fruits.remove(\"grapes\")\n",
    "fruits"
   ]
  },
  {
   "cell_type": "code",
   "execution_count": null,
   "id": "7e0031ec",
   "metadata": {},
   "outputs": [
    {
     "data": {
      "text/plain": [
       "[5, 5, 4, 3, 3, 2, 1]"
      ]
     },
     "execution_count": 42,
     "metadata": {},
     "output_type": "execute_result"
    }
   ],
   "source": [
    "#sort ---  asc order\n",
    "list = [1,5,3,5,3,2,4]\n",
    "list.sort()\n",
    "list\n",
    "\n",
    "#desc order\n",
    "list.sort(reverse=True)\n",
    "list\n"
   ]
  },
  {
   "cell_type": "code",
   "execution_count": 43,
   "id": "b38f3abc",
   "metadata": {},
   "outputs": [
    {
     "data": {
      "text/plain": [
       "[]"
      ]
     },
     "execution_count": 43,
     "metadata": {},
     "output_type": "execute_result"
    }
   ],
   "source": [
    "list.clear()\n",
    "list"
   ]
  },
  {
   "cell_type": "code",
   "execution_count": 51,
   "id": "d4cdf919",
   "metadata": {},
   "outputs": [
    {
     "name": "stdout",
     "output_type": "stream",
     "text": [
      "[1, 2, 3, 4, 5, 6, 7, 8, 9]\n",
      "[1, 2, 3, 4, 5]\n",
      "[6, 7, 8, 9]\n",
      "[1, 3, 5, 7, 9]\n",
      "[9, 8, 7, 6, 5, 4, 3, 2, 1]\n",
      "[1, 4, 7]\n",
      "0 1\n",
      "1 2\n",
      "2 3\n",
      "3 4\n",
      "4 5\n",
      "5 6\n",
      "6 7\n",
      "7 8\n",
      "8 9\n"
     ]
    }
   ],
   "source": [
    "#slicing list\n",
    "numbers = [1,2,3,4,5,6,7,8,9]\n",
    "print(numbers)\n",
    "print(numbers[:5])\n",
    "print(numbers[5:])\n",
    "print(numbers[::2])\n",
    "print(numbers[::-1])\n",
    "print(numbers[::3])\n",
    "\n",
    "for index,num in enumerate(numbers):\n",
    "    print(index,num)"
   ]
  },
  {
   "cell_type": "code",
   "execution_count": 46,
   "id": "f40ebbba",
   "metadata": {},
   "outputs": [
    {
     "data": {
      "text/plain": [
       "[9, 7, 5, 3, 1]"
      ]
     },
     "execution_count": 46,
     "metadata": {},
     "output_type": "execute_result"
    }
   ],
   "source": [
    "numbers[::-2]"
   ]
  },
  {
   "cell_type": "code",
   "execution_count": 50,
   "id": "3b8e0c50",
   "metadata": {},
   "outputs": [
    {
     "name": "stdout",
     "output_type": "stream",
     "text": [
      "1 0\n",
      "2 1\n",
      "3 2\n",
      "4 3\n",
      "5 4\n",
      "6 5\n",
      "7 6\n",
      "8 7\n",
      "9 8\n"
     ]
    }
   ],
   "source": [
    "#iterating over list\n",
    "idx =0\n",
    "for num in numbers:\n",
    "    print(num,idx)\n",
    "    idx += 1"
   ]
  },
  {
   "cell_type": "code",
   "execution_count": 58,
   "id": "eac3ae8f",
   "metadata": {},
   "outputs": [
    {
     "name": "stdout",
     "output_type": "stream",
     "text": [
      "[0, 1, 4, 9, 16, 25, 36, 49, 64, 81]\n"
     ]
    }
   ],
   "source": [
    "lst = []\n",
    "for x in range(10):\n",
    "    lst.append(x**2)\n",
    "print(lst)\n"
   ]
  },
  {
   "cell_type": "code",
   "execution_count": 59,
   "id": "195a95cc",
   "metadata": {},
   "outputs": [
    {
     "data": {
      "text/plain": [
       "[0, 1, 4, 9, 16, 25, 36, 49, 64, 81]"
      ]
     },
     "execution_count": 59,
     "metadata": {},
     "output_type": "execute_result"
    }
   ],
   "source": [
    "[ x ** 2 for x in range(10)]"
   ]
  },
  {
   "cell_type": "markdown",
   "id": "a076e895",
   "metadata": {},
   "source": [
    "##### list comprehension\n",
    "basic syntax [expression for item in iterable ]\n",
    "\n",
    "\n",
    "with conditional logic   [expression for item in iterable if condition]\n",
    "\n",
    "nested list comprehension [expression for item in iterable 1 for item2 in iterable2]"
   ]
  },
  {
   "cell_type": "code",
   "execution_count": 60,
   "id": "5631052a",
   "metadata": {},
   "outputs": [
    {
     "name": "stdout",
     "output_type": "stream",
     "text": [
      "[0, 1, 4, 9, 16, 25, 36, 49, 64, 81]\n"
     ]
    }
   ],
   "source": [
    "#basic list comprehension\n",
    "\n",
    "square = [num**2 for num in range(10)]\n",
    "print(square)"
   ]
  },
  {
   "cell_type": "code",
   "execution_count": 62,
   "id": "e95b424c",
   "metadata": {},
   "outputs": [
    {
     "name": "stdout",
     "output_type": "stream",
     "text": [
      "[0, 2, 4, 6, 8]\n"
     ]
    }
   ],
   "source": [
    "lst = []\n",
    "\n",
    "for i in range(10):\n",
    "    if i%2 ==0:\n",
    "        lst.append(i)\n",
    "print(lst)"
   ]
  },
  {
   "cell_type": "markdown",
   "id": "9f2e016d",
   "metadata": {},
   "source": []
  },
  {
   "cell_type": "code",
   "execution_count": 63,
   "id": "1c75a234",
   "metadata": {},
   "outputs": [
    {
     "name": "stdout",
     "output_type": "stream",
     "text": [
      "[0, 2, 4, 6, 8]\n"
     ]
    }
   ],
   "source": [
    "even_number = [num for num in range(10) if num%2 == 0]\n",
    "print(even_number)"
   ]
  },
  {
   "cell_type": "code",
   "execution_count": 66,
   "id": "a11afb63",
   "metadata": {},
   "outputs": [
    {
     "name": "stdout",
     "output_type": "stream",
     "text": [
      "[[1, 'a'], [1, 'b'], [1, 'c'], [1, 'd'], [2, 'a'], [2, 'b'], [2, 'c'], [2, 'd'], [3, 'a'], [3, 'b'], [3, 'c'], [3, 'd'], [4, 'a'], [4, 'b'], [4, 'c'], [4, 'd']]\n"
     ]
    }
   ],
   "source": [
    "## nested list comprehension\n",
    "\n",
    "lst1 = [1,2,3,4]\n",
    "lst2 = ['a','b','c','d']      \n",
    "\n",
    "pair = [[i,j] for i in lst1 for j in lst2]\n",
    "print(pair)"
   ]
  },
  {
   "cell_type": "code",
   "execution_count": 71,
   "id": "cbbf11f6",
   "metadata": {},
   "outputs": [
    {
     "name": "stdout",
     "output_type": "stream",
     "text": [
      "[5, 5, 6]\n"
     ]
    }
   ],
   "source": [
    "list = [\"tejas\",\"krish\",\"chavan\"]\n",
    "\n",
    "lenghts = [len(list) for list in list]\n",
    "print(lenghts)"
   ]
  },
  {
   "cell_type": "code",
   "execution_count": 7,
   "id": "97b09424",
   "metadata": {},
   "outputs": [
    {
     "name": "stdout",
     "output_type": "stream",
     "text": [
      "()\n",
      "<class 'tuple'>\n"
     ]
    },
    {
     "data": {
      "text/plain": [
       "['tejas']"
      ]
     },
     "execution_count": 7,
     "metadata": {},
     "output_type": "execute_result"
    }
   ],
   "source": [
    "#creating a tuple ()\n",
    "\n",
    "empty_tuple = ()\n",
    "print(empty_tuple)\n",
    "print(type(empty_tuple))\n",
    "\n",
    "empty_tuple = list()\n",
    "empty_tuple\n",
    "empty_tuple.append(\"tejas\")\n",
    "empty_tuple"
   ]
  },
  {
   "cell_type": "code",
   "execution_count": null,
   "id": "40c5b619",
   "metadata": {},
   "outputs": [
    {
     "data": {
      "text/plain": [
       "[1, 'tejas', 3.4, True]"
      ]
     },
     "execution_count": 10,
     "metadata": {},
     "output_type": "execute_result"
    }
   ],
   "source": [
    "#mixed tuple\n",
    "tup1 = (1,'tejas',3.4,True)\n",
    "tup1"
   ]
  },
  {
   "cell_type": "code",
   "execution_count": null,
   "id": "260fb4c5",
   "metadata": {},
   "outputs": [
    {
     "name": "stdout",
     "output_type": "stream",
     "text": [
      "[2, 4, 5, 6]\n"
     ]
    }
   ],
   "source": [
    "number = (1,2,4,5,6,7)\n",
    "print(number[1:5])"
   ]
  },
  {
   "cell_type": "code",
   "execution_count": 13,
   "id": "75b86638",
   "metadata": {},
   "outputs": [
    {
     "name": "stdout",
     "output_type": "stream",
     "text": [
      "[1, 2, 4, 5, 6, 7]\n"
     ]
    }
   ],
   "source": [
    "print(number[::])"
   ]
  },
  {
   "cell_type": "code",
   "execution_count": 16,
   "id": "05b32602",
   "metadata": {},
   "outputs": [
    {
     "name": "stdout",
     "output_type": "stream",
     "text": [
      "(3, 6, 12, 15, 18, 21)\n"
     ]
    }
   ],
   "source": [
    "new_number = tuple(x * 3 for x in number)\n",
    "print(new_number)"
   ]
  },
  {
   "cell_type": "code",
   "execution_count": 18,
   "id": "478c7f7e",
   "metadata": {},
   "outputs": [
    {
     "name": "stdout",
     "output_type": "stream",
     "text": [
      "(42, 'tejas', 22, 444)\n"
     ]
    }
   ],
   "source": [
    "#tuple methods\n",
    "#count\n",
    "tuple = ()\n",
    "\n",
    "tuple += (42,\"tejas\",22,444,)\n",
    "print(tuple)"
   ]
  },
  {
   "cell_type": "code",
   "execution_count": 19,
   "id": "7e08d8ba",
   "metadata": {},
   "outputs": [
    {
     "data": {
      "text/plain": [
       "2"
      ]
     },
     "execution_count": 19,
     "metadata": {},
     "output_type": "execute_result"
    }
   ],
   "source": [
    "num = (34,\"tejaa\",32,34,3.4)\n",
    "num.count(34)"
   ]
  },
  {
   "cell_type": "code",
   "execution_count": 21,
   "id": "1480f388",
   "metadata": {},
   "outputs": [
    {
     "data": {
      "text/plain": [
       "4"
      ]
     },
     "execution_count": 21,
     "metadata": {},
     "output_type": "execute_result"
    }
   ],
   "source": [
    "#index \n",
    "num.index(3.4)"
   ]
  },
  {
   "cell_type": "code",
   "execution_count": 22,
   "id": "ee065c74",
   "metadata": {},
   "outputs": [
    {
     "name": "stdout",
     "output_type": "stream",
     "text": [
      "(3, 'tejas', 4.3)\n"
     ]
    }
   ],
   "source": [
    "#packed and unpacked\n",
    "\n",
    "packed_tuple = 3,\"tejas\",4.3\n",
    "print(packed_tuple)"
   ]
  },
  {
   "cell_type": "code",
   "execution_count": 23,
   "id": "61162de3",
   "metadata": {},
   "outputs": [
    {
     "name": "stdout",
     "output_type": "stream",
     "text": [
      "3\n",
      "tejas\n",
      "4.3\n"
     ]
    }
   ],
   "source": [
    "a,b,c = packed_tuple\n",
    "print(a)\n",
    "print(b)\n",
    "print(c)"
   ]
  },
  {
   "cell_type": "code",
   "execution_count": 24,
   "id": "56f45939",
   "metadata": {},
   "outputs": [
    {
     "name": "stdout",
     "output_type": "stream",
     "text": [
      "1\n",
      "[2, 3, 4, 5]\n",
      "6\n"
     ]
    }
   ],
   "source": [
    "#unpacking with stars\n",
    "numb = [1,2,3,4,5,6]\n",
    "first,*middle,last = numb\n",
    "print(first)\n",
    "print(middle)\n",
    "print(last)"
   ]
  },
  {
   "cell_type": "code",
   "execution_count": 25,
   "id": "3dec5c34",
   "metadata": {},
   "outputs": [
    {
     "data": {
      "text/plain": [
       "(1, 3, 4, 4)"
      ]
     },
     "execution_count": 25,
     "metadata": {},
     "output_type": "execute_result"
    }
   ],
   "source": [
    "#nested tuple\n",
    "\n",
    "lst = ((1,3,4,4),(2,32,32,43),(3,3,2,3))\n",
    "lst[0]"
   ]
  },
  {
   "cell_type": "code",
   "execution_count": 27,
   "id": "27ddf6df",
   "metadata": {},
   "outputs": [
    {
     "name": "stdout",
     "output_type": "stream",
     "text": [
      "1 3 4 4 \n",
      "2 32 32 43 \n",
      "3 3 2 3 \n"
     ]
    }
   ],
   "source": [
    "#iterating over tuple\n",
    "\n",
    "for sub_tuple in lst:\n",
    "    for item in sub_tuple:\n",
    "        print(item,end=\" \")\n",
    "    print()"
   ]
  },
  {
   "cell_type": "code",
   "execution_count": 1,
   "id": "63f23ba6",
   "metadata": {},
   "outputs": [
    {
     "name": "stdout",
     "output_type": "stream",
     "text": [
      "ATG\n",
      "CGA\n"
     ]
    }
   ],
   "source": [
    "codes = [\"ATG\", \"CGA\", \"STOP\", \"GTC\"]\n",
    "\n",
    "for code in codes:\n",
    "    if code == \"STOP\":\n",
    "        break\n",
    "    print(code)\n"
   ]
  },
  {
   "cell_type": "code",
   "execution_count": null,
   "id": "691f94ab",
   "metadata": {},
   "outputs": [
    {
     "name": "stdout",
     "output_type": "stream",
     "text": [
      "66.66666666666666\n"
     ]
    }
   ],
   "source": [
    "sequence = \"ATGCAT\"\n",
    "sequence = sequence.upper()\n",
    "\n",
    "at_count = sequence.count('A') + sequence.count('T')\n",
    "at_content = (at_count / len(sequence)) * 100\n",
    "\n",
    "print(at_content)  "
   ]
  },
  {
   "cell_type": "code",
   "execution_count": 3,
   "id": "82593548",
   "metadata": {},
   "outputs": [
    {
     "name": "stdout",
     "output_type": "stream",
     "text": [
      "['TACG', 'GCAT', 'AATT']\n"
     ]
    }
   ],
   "source": [
    "sequences = [\"ATGC\", \"CGTA\", \"TTAA\"]\n",
    "\n",
    "complemented = list(map(lambda seq: ''.join(map(lambda base: {'A':'T','T':'A','G':'C','C':'G'}[base], seq)), sequences))\n",
    "\n",
    "print(complemented)\n"
   ]
  },
  {
   "cell_type": "code",
   "execution_count": 3,
   "id": "07c068f5",
   "metadata": {},
   "outputs": [
    {
     "data": {
      "text/plain": [
       "24"
      ]
     },
     "execution_count": 3,
     "metadata": {},
     "output_type": "execute_result"
    }
   ],
   "source": [
    "from module.package.maths import addition\n",
    "addition(1,23)\n"
   ]
  }
 ],
 "metadata": {
  "kernelspec": {
   "display_name": "Python 3",
   "language": "python",
   "name": "python3"
  },
  "language_info": {
   "codemirror_mode": {
    "name": "ipython",
    "version": 3
   },
   "file_extension": ".py",
   "mimetype": "text/x-python",
   "name": "python",
   "nbconvert_exporter": "python",
   "pygments_lexer": "ipython3",
   "version": "3.13.1"
  }
 },
 "nbformat": 4,
 "nbformat_minor": 5
}
