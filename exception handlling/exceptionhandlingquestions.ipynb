{
 "cells": [
  {
   "cell_type": "markdown",
   "metadata": {},
   "source": [
    "# Module: Exception Handling Assignments\n",
    "## Lesson: Exception Handling with try, except, and finally\n",
    "### Assignment 1: Handling Division by Zero\n",
    "\n",
    "Write a function that takes two integers as input and returns their division. Use try, except, and finally blocks to handle division by zero and print an appropriate message.\n",
    "\n",
    "### Assignment 2: File Reading with Exception Handling\n",
    "\n",
    "Write a function that reads the contents of a file named `data.txt`. Use try, except, and finally blocks to handle file not found errors and ensure the file is properly closed.\n",
    "\n",
    "### Assignment 3: Handling Multiple Exceptions\n",
    "\n",
    "Write a function that takes a list of integers and returns their sum. Use try, except, and finally blocks to handle TypeError if a non-integer value is encountered and print an appropriate message.\n",
    "\n",
    "### Assignment 4: Exception Handling in User Input\n",
    "\n",
    "Write a function that prompts the user to enter an integer. Use try, except, and finally blocks to handle ValueError if the user enters a non-integer value and print an appropriate message.\n",
    "\n",
    "### Assignment 5: Exception Handling in Dictionary Access\n",
    "\n",
    "Write a function that takes a dictionary and a key as input and returns the value associated with the key. Use try, except, and finally blocks to handle KeyError if the key is not found in the dictionary and print an appropriate message.\n",
    "\n",
    "### Assignment 6: Nested Exception Handling\n",
    "\n",
    "Write a function that performs nested exception handling. It should first attempt to convert a string to an integer, and then attempt to divide by that integer. Use nested try, except, and finally blocks to handle ValueError and ZeroDivisionError and print appropriate messages.\n",
    "\n",
    "### Assignment 7: Exception Handling in List Operations\n",
    "\n",
    "Write a function that takes a list and an index as input and returns the element at the given index. Use try, except, and finally blocks to handle IndexError if the index is out of range and print an appropriate message.\n",
    "\n",
    "### Assignment 8: Exception Handling in Network Operations\n",
    "\n",
    "Write a function that attempts to open a URL and read its contents. Use try, except, and finally blocks to handle network-related errors and print an appropriate message.\n",
    "\n",
    "### Assignment 9: Exception Handling in JSON Parsing\n",
    "\n",
    "Write a function that attempts to parse a JSON string. Use try, except, and finally blocks to handle JSONDecodeError if the string is not a valid JSON and print an appropriate message.\n",
    "\n",
    "### Assignment 10: Custom Exception Handling\n",
    "\n",
    "Define a custom exception named `NegativeNumberError`. Write a function that raises this exception if a negative number is encountered in a list. Use try, except, and finally blocks to handle the custom exception and print an appropriate message.\n",
    "\n",
    "### Assignment 11: Exception Handling in Function Calls\n",
    "\n",
    "Write a function that calls another function which may raise an exception. Use try, except, and finally blocks to handle the exception and print an appropriate message.\n",
    "\n",
    "### Assignment 12: Exception Handling in Class Methods\n",
    "\n",
    "Define a class with a method that performs a division operation. Use try, except, and finally blocks within the method to handle division by zero and print an appropriate message.\n",
    "\n",
    "### Assignment 13: Exception Handling in Data Conversion\n",
    "\n",
    "Write a function that takes a list of strings and converts them to integers. Use try, except, and finally blocks to handle ValueError if a string cannot be converted and print an appropriate message.\n",
    "\n",
    "### Assignment 14: Exception Handling in List Comprehensions\n",
    "\n",
    "Write a function that uses a list comprehension to convert a list of strings to integers. Use try, except, and finally blocks within the list comprehension to handle ValueError and print an appropriate message.\n",
    "\n",
    "### Assignment 15: Exception Handling in File Writing\n",
    "\n",
    "Write a function that attempts to write a list of strings to a file. Use try, except, and finally blocks to handle IOError and ensure the file is properly closed."
   ]
  },
  {
   "cell_type": "code",
   "execution_count": null,
   "id": "e49b018a",
   "metadata": {},
   "outputs": [],
   "source": []
  },
  {
   "cell_type": "code",
   "execution_count": 4,
   "metadata": {},
   "outputs": [
    {
     "name": "stdout",
     "output_type": "stream",
     "text": [
      "division by zero\n",
      "enter division greater than zero\n",
      "execution is complete\n"
     ]
    }
   ],
   "source": [
    "### Assignment 1: Handling Division by Zero\n",
    "\n",
    "#Write a function that takes two integers as input and returns their division. Use try, except, and finally blocks to handle division by zero and print an appropriate message.\n",
    "\n",
    "num1 = int(input(\"enter your first number:\"))\n",
    "num2 = int(input(\"enter your second number:\"))\n",
    "\n",
    "try:\n",
    "    division = num1/num2\n",
    "    print(division)\n",
    "\n",
    "except ZeroDivisionError as z:\n",
    "    print(z)\n",
    "    print(\"enter division greater than zero\")\n",
    "except ValueError as v:\n",
    "    print(v)\n",
    "except Exception as ex:\n",
    "    print(ex)\n",
    "\n",
    "finally:\n",
    "    print(\"execution is complete\")"
   ]
  },
  {
   "cell_type": "code",
   "execution_count": null,
   "id": "11ace58e",
   "metadata": {},
   "outputs": [],
   "source": [
    "### Assignment 2: File Reading with Exception Handling\n",
    "\n",
    "#Write a function that reads the contents of a file named `data.txt`. Use try, except, and finally blocks to handle file not found errors and ensure the file is properly closed."
   ]
  },
  {
   "cell_type": "code",
   "execution_count": 7,
   "id": "25da5644",
   "metadata": {},
   "outputs": [
    {
     "name": "stdout",
     "output_type": "stream",
     "text": [
      "error is found\n",
      "name 'b' is not defined\n",
      "file is closed\n"
     ]
    }
   ],
   "source": [
    "try:\n",
    "    file = open('data.txt','r')\n",
    "    content = file.read()\n",
    "    a=b\n",
    "    print(content)\n",
    "\n",
    "except FileNotFoundError as f:\n",
    "    print(f)\n",
    "    print('file does not exist')\n",
    "except ValueError as v:\n",
    "    print(v)\n",
    "except Exception as ex:\n",
    "    print(\"error is found\")\n",
    "    print(ex)\n",
    "\n",
    "finally:\n",
    "    if 'file' in locals() and not file.closed:\n",
    "        file.close()\n",
    "        print(\"file is closed\")"
   ]
  },
  {
   "cell_type": "code",
   "execution_count": 17,
   "id": "8c387162",
   "metadata": {},
   "outputs": [
    {
     "name": "stdout",
     "output_type": "stream",
     "text": [
      "execution is completed\n",
      "10\n",
      "non-integer value encountered : a\n",
      "execution is completed\n",
      "1\n"
     ]
    }
   ],
   "source": [
    "### Assignment 3: Handling Multiple Exceptions\n",
    "\n",
    "#Write a function that takes a list of integers and returns their sum. Use try, except, and finally blocks to handle TypeError if a non-integer value is encountered and print an appropriate message.\n",
    "\n",
    "def sum_of_integers(numbers):\n",
    "    total = 0\n",
    "\n",
    "    try:\n",
    "        for num in numbers:\n",
    "           if not isinstance(num,int):\n",
    "              raise TypeError(f\"non-integer value encountered : {num}\")\n",
    "           total += num\n",
    "    except TypeError as e:\n",
    "       print(e)\n",
    "   \n",
    "    finally:\n",
    "        print(\"execution is completed\")\n",
    "\n",
    "    return total\n",
    "\n",
    "\n",
    "print(sum_of_integers([1,2,3,4]))\n",
    "print(sum_of_integers([1,'a',2]))\n",
    "\n",
    "\n",
    "\n",
    "\n",
    "\n",
    "\n",
    "\n",
    "\n",
    "\n",
    "\n"
   ]
  },
  {
   "cell_type": "code",
   "execution_count": null,
   "id": "3fa04996",
   "metadata": {},
   "outputs": [],
   "source": []
  }
 ],
 "metadata": {
  "kernelspec": {
   "display_name": "Python 3",
   "language": "python",
   "name": "python3"
  },
  "language_info": {
   "codemirror_mode": {
    "name": "ipython",
    "version": 3
   },
   "file_extension": ".py",
   "mimetype": "text/x-python",
   "name": "python",
   "nbconvert_exporter": "python",
   "pygments_lexer": "ipython3",
   "version": "3.13.1"
  }
 },
 "nbformat": 4,
 "nbformat_minor": 5
}
