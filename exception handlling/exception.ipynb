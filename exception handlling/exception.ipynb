{
 "cells": [
  {
   "cell_type": "code",
   "execution_count": 24,
   "id": "f51cbba8",
   "metadata": {},
   "outputs": [],
   "source": [
    "# ##exception handling\n",
    "# a=b"
   ]
  },
  {
   "cell_type": "code",
   "execution_count": null,
   "id": "3adbfcca",
   "metadata": {},
   "outputs": [],
   "source": []
  },
  {
   "cell_type": "code",
   "execution_count": 6,
   "id": "75cef2de",
   "metadata": {},
   "outputs": [
    {
     "name": "stdout",
     "output_type": "stream",
     "text": [
      "variable has not been assigned\n"
     ]
    }
   ],
   "source": [
    "##handle gracefully by providing a good messaage\n",
    "try:\n",
    "    a=b\n",
    "except:\n",
    "    print(\"variable has not been assigned\")"
   ]
  },
  {
   "cell_type": "code",
   "execution_count": null,
   "id": "979b0e9e",
   "metadata": {},
   "outputs": [
    {
     "name": "stdout",
     "output_type": "stream",
     "text": [
      "name 'b' is not defined\n"
     ]
    }
   ],
   "source": [
    "try:\n",
    "    a=b\n",
    "    \n",
    "except NameError as edx:\n",
    "    print(edx)"
   ]
  },
  {
   "cell_type": "code",
   "execution_count": null,
   "id": "04e7963b",
   "metadata": {},
   "outputs": [
    {
     "name": "stdout",
     "output_type": "stream",
     "text": [
      "division by zero\n",
      "pleses enter the denominator greater than 0\n"
     ]
    }
   ],
   "source": [
    "try:\n",
    "    result = 1/0\n",
    "except ZeroDivisionError as ex:\n",
    "    print(ex)\n",
    "    print(\"pleses enter the denominator greater than\")"
   ]
  },
  {
   "cell_type": "code",
   "execution_count": 20,
   "id": "f0302486",
   "metadata": {},
   "outputs": [
    {
     "name": "stdout",
     "output_type": "stream",
     "text": [
      "name 'b' is not defined\n",
      "main exception got caugh here\n"
     ]
    }
   ],
   "source": [
    "try:\n",
    "    result = 1/2\n",
    "    a=b\n",
    "except ZeroDivisionError as ex:\n",
    "    print(ex)\n",
    "    print(\"pleses enter the denominator greater than\")\n",
    "except Exception as ex1:\n",
    "    print(ex1)\n",
    "    print('main exception got caugh here')"
   ]
  },
  {
   "cell_type": "code",
   "execution_count": 17,
   "id": "8ccc80fe",
   "metadata": {},
   "outputs": [
    {
     "name": "stdout",
     "output_type": "stream",
     "text": [
      "division by zero\n",
      "enter denominator greater than 0\n"
     ]
    }
   ],
   "source": [
    "try :\n",
    "    num = int(input(\"Enter a number\"))\n",
    "    result = 10/num\n",
    "except ValueError as v:\n",
    "    print(v)\n",
    "    print(\"this is not a valid number\")\n",
    "except ZeroDivisionError as z:\n",
    "    print(z)\n",
    "    print(\"enter denominator greater than 0\")\n",
    "except Exception as ex:\n",
    "    print(ex)"
   ]
  },
  {
   "cell_type": "code",
   "execution_count": 22,
   "id": "ea05c647",
   "metadata": {},
   "outputs": [
    {
     "name": "stdout",
     "output_type": "stream",
     "text": [
      "the result is 0.43478260869565216\n"
     ]
    }
   ],
   "source": [
    "###try except and else block\n",
    "try:\n",
    "    num= int(input(\"enter your number:\"))\n",
    "    result = 10/num\n",
    "    \n",
    "except ValueError as v:\n",
    "        print(v)\n",
    "        print(\"this is not a valid number\")\n",
    "except ZeroDivisionError as z:\n",
    "    print(z)\n",
    "    print(\"enter denominator greater than 0\")\n",
    "except Exception as ex:\n",
    "     print(ex)\n",
    "else:\n",
    "     print(f\"the result is {result}\")"
   ]
  },
  {
   "cell_type": "code",
   "execution_count": null,
   "id": "cc136242",
   "metadata": {},
   "outputs": [],
   "source": []
  },
  {
   "cell_type": "code",
   "execution_count": null,
   "id": "5b441f13",
   "metadata": {},
   "outputs": [
    {
     "name": "stdout",
     "output_type": "stream",
     "text": [
      "division by zero\n",
      "enter denominator greater than 0\n",
      "execution complete\n"
     ]
    }
   ],
   "source": [
    "##try except,else,finally\n",
    "try:\n",
    "    num= int(input(\"enter your number:\"))\n",
    "    result = 10/num\n",
    "    \n",
    "except ValueError as v:\n",
    "        print(v)\n",
    "        print(\"this is not a valid number\")\n",
    "except ZeroDivisionError as z:\n",
    "    print(z)\n",
    "    print(\"enter denominator greater than 0\")\n",
    "except Exception as ex:\n",
    "     print(ex)\n",
    "else:\n",
    "     print(f\"the result is {result}\")\n",
    "finally:\n",
    "     print(\"execution complete\")\n",
    " "
   ]
  },
  {
   "cell_type": "code",
   "execution_count": 9,
   "id": "96c665e7",
   "metadata": {},
   "outputs": [
    {
     "name": "stdout",
     "output_type": "stream",
     "text": [
      "\n",
      "name 'b' is not defined\n",
      "error is found\n",
      "file closed\n"
     ]
    }
   ],
   "source": [
    "##file handling and exception handling\n",
    "try:\n",
    "    file = open(\"example.txt\",'r')\n",
    "    content = file.read()\n",
    "    print(content)\n",
    "    a=b\n",
    "except FileNotFoundError as f:\n",
    "    print(f)\n",
    "    print(\"file is does not exist\")\n",
    "except Exception as ex:\n",
    "    print(ex)\n",
    "    print(\"error is found\")\n",
    "   \n",
    "finally:\n",
    "    if 'file' in locals() and not file.closed:\n",
    "        file.close()\n",
    "        print(\"file closed\")\n"
   ]
  },
  {
   "cell_type": "code",
   "execution_count": 2,
   "id": "f9f998ef",
   "metadata": {},
   "outputs": [
    {
     "name": "stdout",
     "output_type": "stream",
     "text": [
      "10\n"
     ]
    }
   ],
   "source": [
    "a = 2\n",
    "b = 10\n",
    "\n",
    "temp = a\n",
    "\n",
    "a = b\n",
    "\n",
    "b = temp\n",
    "\n",
    "print(a)"
   ]
  }
 ],
 "metadata": {
  "kernelspec": {
   "display_name": "Python 3",
   "language": "python",
   "name": "python3"
  },
  "language_info": {
   "codemirror_mode": {
    "name": "ipython",
    "version": 3
   },
   "file_extension": ".py",
   "mimetype": "text/x-python",
   "name": "python",
   "nbconvert_exporter": "python",
   "pygments_lexer": "ipython3",
   "version": "3.13.1"
  }
 },
 "nbformat": 4,
 "nbformat_minor": 5
}
