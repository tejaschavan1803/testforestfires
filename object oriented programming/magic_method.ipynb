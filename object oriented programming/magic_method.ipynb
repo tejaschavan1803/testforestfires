{
 "cells": [
  {
   "cell_type": "markdown",
   "id": "ab17393c",
   "metadata": {},
   "source": [
    "##majic mehod\n",
    "predifined method that we can override to change the behavior of object\n",
    "\n",
    "\n"
   ]
  },
  {
   "cell_type": "code",
   "execution_count": 1,
   "id": "15529cc0",
   "metadata": {},
   "outputs": [
    {
     "data": {
      "text/plain": [
       "['__class__',\n",
       " '__delattr__',\n",
       " '__dict__',\n",
       " '__dir__',\n",
       " '__doc__',\n",
       " '__eq__',\n",
       " '__firstlineno__',\n",
       " '__format__',\n",
       " '__ge__',\n",
       " '__getattribute__',\n",
       " '__getstate__',\n",
       " '__gt__',\n",
       " '__hash__',\n",
       " '__init__',\n",
       " '__init_subclass__',\n",
       " '__le__',\n",
       " '__lt__',\n",
       " '__module__',\n",
       " '__ne__',\n",
       " '__new__',\n",
       " '__reduce__',\n",
       " '__reduce_ex__',\n",
       " '__repr__',\n",
       " '__setattr__',\n",
       " '__sizeof__',\n",
       " '__static_attributes__',\n",
       " '__str__',\n",
       " '__subclasshook__',\n",
       " '__weakref__']"
      ]
     },
     "execution_count": 1,
     "metadata": {},
     "output_type": "execute_result"
    }
   ],
   "source": [
    "class Person:\n",
    "    pass\n",
    "\n",
    "person = Person()\n",
    "dir(person)"
   ]
  },
  {
   "cell_type": "code",
   "execution_count": 2,
   "id": "a4270139",
   "metadata": {},
   "outputs": [
    {
     "name": "stdout",
     "output_type": "stream",
     "text": [
      "<__main__.Person object at 0x0000022DAEAE1550>\n"
     ]
    }
   ],
   "source": [
    "## basic majic method\n",
    "class Person:\n",
    "    def __init__(self,name,age):\n",
    "       self.name = name\n",
    "       self.age = age\n",
    "\n",
    "person=Person(\"Krish\",34)\n",
    "print(person)"
   ]
  },
  {
   "cell_type": "code",
   "execution_count": 6,
   "id": "de66846c",
   "metadata": {},
   "outputs": [
    {
     "name": "stdout",
     "output_type": "stream",
     "text": [
      "Krish ,34 years old\n",
      "Krish ,34 years old\n",
      "Person(name=Krish,age=34) \n"
     ]
    }
   ],
   "source": [
    "## basic majic method\n",
    "class Person:\n",
    "    def __init__(self,name,age):\n",
    "       self.name = name\n",
    "       self.age = age\n",
    "#overriding\n",
    "    def __str__(self):\n",
    "        return f\"{self.name} ,{self.age} years old\"\n",
    "    \n",
    "    def __repr__(self):\n",
    "        return f\"Person(name={self.name},age={self.age}) \"\n",
    "    \n",
    "\n",
    "\n",
    "person=Person(\"Krish\",34)\n",
    "print(person)\n",
    "print(person)\n",
    "print(repr(person))"
   ]
  },
  {
   "cell_type": "code",
   "execution_count": 18,
   "id": "97d9c584",
   "metadata": {},
   "outputs": [
    {
     "name": "stdout",
     "output_type": "stream",
     "text": [
      "Vector(6,8)\n",
      "Vector(-2,-2)\n",
      "Vector(6,9)\n"
     ]
    }
   ],
   "source": [
    "##mathimatical operation for vectors\n",
    "class Vector:\n",
    "    def __init__(self,x,y):\n",
    "        self.x = x\n",
    "        self.y = y\n",
    "    def __add__(self,other):\n",
    "        return Vector(self.x+other.x,self.y+other.y)\n",
    "    \n",
    "    def __sub__(self,other):\n",
    "        return Vector(self.x -other.x , self.y - other.y)\n",
    "    \n",
    "    def __mul__(self,other):\n",
    "        return Vector(self.x * other,self.y * other)\n",
    "    \n",
    "    def __eq__(self, other):\n",
    "        return self.x == other.x,self.y ==other.y\n",
    "    \n",
    "    def __repr__(self):\n",
    "        return f\"Vector({self.x},{self.y})\"\n",
    "    \n",
    "\n",
    "#create objects of the vector\n",
    "\n",
    "v1 = Vector(2,3)\n",
    "v2 = Vector(4,5)\n",
    "\n",
    "print(v1+v2)\n",
    "print(v1-v2)\n",
    "print(v1*3)\n",
    "\n"
   ]
  },
  {
   "cell_type": "code",
   "execution_count": 24,
   "id": "c9c04be3",
   "metadata": {},
   "outputs": [
    {
     "name": "stdout",
     "output_type": "stream",
     "text": [
      "(0.8235294117647058, 0.6470588235294118)\n",
      "3 + 7i\n",
      "3 + 7i\n"
     ]
    }
   ],
   "source": [
    "##overloading operators for complex number\n",
    "\n",
    "class ComplexNumber:\n",
    "    def __init__(self,real,img):\n",
    "        self.real = real \n",
    "        self.img = img\n",
    "\n",
    "    def __add__(self,other):\n",
    "        return ComplexNumber(self.real + other.real,self.img + other.img)\n",
    "    \n",
    "    def __sub__(self,other):\n",
    "        return ComplexNumber(self.real - other.real,self.img - other.img)\n",
    "    \n",
    "    def __mul__(self,other):\n",
    "        real_part = self.real * other.real - self.img * other.img\n",
    "        imag_part = self.real * other.img + self.img * other.real\n",
    "\n",
    "        return ComplexNumber(real_part,imag_part)\n",
    "    \n",
    "    def __truediv__(self,other):\n",
    "        denominator = other.real**2 +other.img**2\n",
    "        real_part = (self.real * other.real + self.img *other.img) / denominator\n",
    "        img_part = (self.img * other.real + self.real *other.img) / denominator\n",
    "\n",
    "        return(real_part,img_part)\n",
    "    \n",
    "    def __str__(self):\n",
    "        return f\"{self.real} + {self.img}i\"\n",
    "    \n",
    "\n",
    "c1 = ComplexNumber(2,3)\n",
    "c2 = ComplexNumber(1,4)\n",
    "\n",
    "print(c1 / c2)\n",
    "addition = c1+c2\n",
    "print(addition)\n",
    "print(c1 + c2)\n",
    "\n"
   ]
  }
 ],
 "metadata": {
  "kernelspec": {
   "display_name": "Python 3",
   "language": "python",
   "name": "python3"
  },
  "language_info": {
   "codemirror_mode": {
    "name": "ipython",
    "version": 3
   },
   "file_extension": ".py",
   "mimetype": "text/x-python",
   "name": "python",
   "nbconvert_exporter": "python",
   "pygments_lexer": "ipython3",
   "version": "3.13.1"
  }
 },
 "nbformat": 4,
 "nbformat_minor": 5
}
