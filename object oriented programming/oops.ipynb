{
 "cells": [
  {
   "cell_type": "code",
   "execution_count": 3,
   "id": "9f2909ac",
   "metadata": {},
   "outputs": [
    {
     "name": "stdout",
     "output_type": "stream",
     "text": [
      "<class '__main__.Car'>\n"
     ]
    }
   ],
   "source": [
    "## a class is a blue print for creating objects,attributes and methods\n",
    "class Car:\n",
    "    pass\n",
    "\n",
    "audi= Car()\n",
    "bwm = Car()\n",
    "\n",
    "print(type(audi))"
   ]
  },
  {
   "cell_type": "code",
   "execution_count": 4,
   "id": "0bb9735f",
   "metadata": {},
   "outputs": [
    {
     "name": "stdout",
     "output_type": "stream",
     "text": [
      "<__main__.Car object at 0x0000015978F87CB0>\n"
     ]
    }
   ],
   "source": [
    "print(audi)"
   ]
  },
  {
   "cell_type": "code",
   "execution_count": 5,
   "id": "32f91155",
   "metadata": {},
   "outputs": [
    {
     "name": "stdout",
     "output_type": "stream",
     "text": [
      "4\n"
     ]
    }
   ],
   "source": [
    "audi.windows = 4\n",
    "print(audi.windows)"
   ]
  },
  {
   "cell_type": "code",
   "execution_count": 6,
   "id": "df047a75",
   "metadata": {},
   "outputs": [
    {
     "name": "stdout",
     "output_type": "stream",
     "text": [
      "4\n"
     ]
    }
   ],
   "source": [
    "tata = Car()\n",
    "tata.doors=4\n",
    "print(tata.doors\n",
    "      )"
   ]
  },
  {
   "cell_type": "code",
   "execution_count": 7,
   "id": "6b4e0ab9",
   "metadata": {},
   "outputs": [
    {
     "data": {
      "text/plain": [
       "['__class__',\n",
       " '__delattr__',\n",
       " '__dict__',\n",
       " '__dir__',\n",
       " '__doc__',\n",
       " '__eq__',\n",
       " '__firstlineno__',\n",
       " '__format__',\n",
       " '__ge__',\n",
       " '__getattribute__',\n",
       " '__getstate__',\n",
       " '__gt__',\n",
       " '__hash__',\n",
       " '__init__',\n",
       " '__init_subclass__',\n",
       " '__le__',\n",
       " '__lt__',\n",
       " '__module__',\n",
       " '__ne__',\n",
       " '__new__',\n",
       " '__reduce__',\n",
       " '__reduce_ex__',\n",
       " '__repr__',\n",
       " '__setattr__',\n",
       " '__sizeof__',\n",
       " '__static_attributes__',\n",
       " '__str__',\n",
       " '__subclasshook__',\n",
       " '__weakref__',\n",
       " 'doors']"
      ]
     },
     "execution_count": 7,
     "metadata": {},
     "output_type": "execute_result"
    }
   ],
   "source": [
    "dir(tata)"
   ]
  },
  {
   "cell_type": "code",
   "execution_count": 10,
   "id": "c5db2c92",
   "metadata": {},
   "outputs": [
    {
     "name": "stdout",
     "output_type": "stream",
     "text": [
      "Buddy 3\n",
      "lucy 2\n"
     ]
    }
   ],
   "source": [
    "## instance variable and methods\n",
    "\n",
    "class Dog:\n",
    "    ##constructor\n",
    "    def __init__(self,name,age):\n",
    "        self.name = name  \n",
    "        self.age = age    \n",
    "    \n",
    "#create object\n",
    "\n",
    "dog1 = Dog(\"Buddy\",3) \n",
    "print(dog1.name, dog1.age)   \n",
    "\n",
    "dog2 = Dog(\"lucy\",2)\n",
    "print(dog2.name,dog2.age)"
   ]
  },
  {
   "cell_type": "code",
   "execution_count": 12,
   "id": "780e25a8",
   "metadata": {},
   "outputs": [
    {
     "name": "stdout",
     "output_type": "stream",
     "text": [
      "buddy says woof\n",
      "lucy says woof\n"
     ]
    }
   ],
   "source": [
    "#define class with instace methods\n",
    "class Dog:\n",
    "    def __init__(self,name,age):\n",
    "        self.name = name\n",
    "        self.age = age\n",
    "\n",
    "    def bark(self):\n",
    "        print(f\"{self.name} says woof\")\n",
    "\n",
    "\n",
    "dog1 = Dog(\"buddy\",3)\n",
    "dog1.bark()\n",
    "\n",
    "dog2 = Dog(\"lucy\",4)\n",
    "dog2.bark()"
   ]
  },
  {
   "cell_type": "code",
   "execution_count": 43,
   "id": "a9657eb3",
   "metadata": {},
   "outputs": [
    {
     "name": "stdout",
     "output_type": "stream",
     "text": [
      "5000\n",
      "1000 is deposited.new balance is 6000\n",
      "None\n",
      "Cannot withdraw. Minimum balance of 500 must be maintained!\n",
      "None\n"
     ]
    }
   ],
   "source": [
    "## MODELLING A BANK ACCOUNT\n",
    "\n",
    "##define class for bank account\n",
    "class BankAccount:\n",
    "    def __init__(self,owner,balance=0):\n",
    "        self.owner =owner\n",
    "        self.balance = balance\n",
    "\n",
    "\n",
    "    def deposit(self,amount):\n",
    "        self.balance += amount\n",
    "        print(f\"{amount} is deposited.new balance is {self.balance}\")\n",
    "        \n",
    "    def withraw(self,amount):\n",
    "        if amount > self.balance:\n",
    "               print(\"insuffitiet funds!\")\n",
    "        elif self.balance - amount < 500:\n",
    "            print(\"Cannot withdraw. Minimum balance of 500 must be maintained!\")\n",
    "        else:\n",
    "            self.balance -= amount\n",
    "            print(f\"{amount} is withdrawn, New balance is {self.balance} \")\n",
    "\n",
    "    def get_balace(self):\n",
    "        \n",
    "            return self.balance\n",
    "    \n",
    "    \n",
    "    \n",
    "#create an ammount object\n",
    "account = BankAccount(\"swati\",5000)\n",
    "print(account.balance)\n",
    "print(account.deposit(1000))\n",
    "print(account.withraw(5600))\n",
    "\n",
    "\n"
   ]
  }
 ],
 "metadata": {
  "kernelspec": {
   "display_name": "Python 3",
   "language": "python",
   "name": "python3"
  },
  "language_info": {
   "codemirror_mode": {
    "name": "ipython",
    "version": 3
   },
   "file_extension": ".py",
   "mimetype": "text/x-python",
   "name": "python",
   "nbconvert_exporter": "python",
   "pygments_lexer": "ipython3",
   "version": "3.13.1"
  }
 },
 "nbformat": 4,
 "nbformat_minor": 5
}
