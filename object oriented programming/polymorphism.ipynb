{
 "cells": [
  {
   "cell_type": "markdown",
   "id": "7ba659c2",
   "metadata": {},
   "source": [
    "Polymorphism\n",
    "allows object of different classes to be treated as object of common superclas\n"
   ]
  },
  {
   "cell_type": "markdown",
   "id": "a5ab4bd5",
   "metadata": {},
   "source": [
    "##method overriding\n",
    "\n",
    "method overriding allows a child class to provide a specific implementation of method that is already defined in its parent class\n"
   ]
  },
  {
   "cell_type": "code",
   "execution_count": 8,
   "id": "e6456336",
   "metadata": {},
   "outputs": [
    {
     "name": "stdout",
     "output_type": "stream",
     "text": [
      "woof\n",
      "meow\n",
      "woof\n",
      "meow\n"
     ]
    }
   ],
   "source": [
    "##base class\n",
    "class Animal:\n",
    "    def speak(self):\n",
    "        return \"sound of the animal\"\n",
    "    \n",
    "#derived class 1\n",
    "class Dog(Animal):\n",
    "    def speak(self):\n",
    "        return \"woof\"\n",
    "\n",
    "#derived class 2\n",
    "class Cat(Animal):\n",
    "    def speak(self):\n",
    "        return \"meow\"\n",
    "    \n",
    "##function that demonstrate polymorphism\n",
    "def animal_speak(animal):\n",
    "    print(animal.speak())\n",
    "    \n",
    "dog = Dog()\n",
    "cat = Cat()\n",
    "print(dog.speak())\n",
    "print(cat.speak())\n",
    "\n",
    "animal_speak(dog)\n",
    "animal_speak(cat)"
   ]
  },
  {
   "cell_type": "code",
   "execution_count": 15,
   "id": "43a64fa4",
   "metadata": {},
   "outputs": [
    {
     "name": "stdout",
     "output_type": "stream",
     "text": [
      "5\n",
      "the area is 20\n",
      "the area is 28.259999999999998\n"
     ]
    }
   ],
   "source": [
    "##polymorphism awith function and methods\n",
    "\n",
    "class shape:\n",
    "    def area(self):\n",
    "        return \"area of the figure\"\n",
    "    \n",
    "## dervided class 1\n",
    "class Rectangle(shape):\n",
    "    def __init__(self,width,height):\n",
    "        self.width = width\n",
    "        self.height = height\n",
    "    \n",
    "    def area(self):\n",
    "        return self.width * self.height\n",
    "##derived class 2\n",
    "class Circle(shape):\n",
    "    def __init__(self,radius):\n",
    "        self.radius = radius\n",
    "\n",
    "    def area(self):\n",
    "        return 3.14*self.radius *self.radius\n",
    "    \n",
    "##function that demostrate polymorphism\n",
    "def print_area(shape):\n",
    "    print(f\"the area is {shape.area()}\") \n",
    "\n",
    "rectangle = Rectangle(4,5)       \n",
    "circle = Circle(3)\n",
    "print(rectangle.height)\n",
    "\n",
    "print_area(rectangle)\n",
    "print_area(circle)"
   ]
  },
  {
   "cell_type": "code",
   "execution_count": 20,
   "id": "1f5eb718",
   "metadata": {},
   "outputs": [
    {
     "name": "stdout",
     "output_type": "stream",
     "text": [
      "car emgine start\n",
      "car emgine start\n",
      "motorcycle engine is started\n"
     ]
    }
   ],
   "source": [
    "##polymorphism with abstract base class\n",
    "from abc  import ABC,abstractmethod\n",
    "\n",
    "##define abstract class\n",
    "\n",
    "class Vehicle(ABC):\n",
    "    @abstractmethod\n",
    "    def start_engine(self):\n",
    "        pass\n",
    "\n",
    "#derived class 1\n",
    "class Car(Vehicle):\n",
    "    def start_engine(self):\n",
    "        return \"car emgine start\"\n",
    "    \n",
    "#derived class2 \n",
    "class Motorcycle(Vehicle):\n",
    "    def start_engine(self):\n",
    "        return \"motorcycle engine is started\"\n",
    "    \n",
    "#function that demonstrate polymorphism\n",
    "\n",
    "def start_vehicle(vehicle):\n",
    "    print(vehicle.start_engine())    \n",
    "#create objects of car and motorcycle\n",
    "\n",
    "car = Car()\n",
    "motorcyle = Motorcycle()\n",
    "start_vehicle(car)\n",
    "print(car.start_engine())\n",
    "print(motorcyle.start_engine())"
   ]
  },
  {
   "cell_type": "code",
   "execution_count": null,
   "id": "4d9a576d",
   "metadata": {},
   "outputs": [],
   "source": []
  }
 ],
 "metadata": {
  "kernelspec": {
   "display_name": "Python 3",
   "language": "python",
   "name": "python3"
  },
  "language_info": {
   "codemirror_mode": {
    "name": "ipython",
    "version": 3
   },
   "file_extension": ".py",
   "mimetype": "text/x-python",
   "name": "python",
   "nbconvert_exporter": "python",
   "pygments_lexer": "ipython3",
   "version": "3.13.1"
  }
 },
 "nbformat": 4,
 "nbformat_minor": 5
}
