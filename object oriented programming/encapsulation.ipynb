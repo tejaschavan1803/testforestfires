{
 "cells": [
  {
   "cell_type": "markdown",
   "id": "40ca1cd9",
   "metadata": {},
   "source": [
    "Encapsulation and abstraction -- \n",
    "Encapsulation -- involves building data and methods that operates on the data within single unit it is concept of wrapping data (variable) and methods (funtion) together as single unit\n"
   ]
  },
  {
   "cell_type": "code",
   "execution_count": null,
   "id": "c220cda3",
   "metadata": {},
   "outputs": [
    {
     "data": {
      "text/plain": [
       "'tejas'"
      ]
     },
     "execution_count": 36,
     "metadata": {},
     "output_type": "execute_result"
    }
   ],
   "source": [
    "## encapsulation with Getter and setter method\n",
    "## Public,Protect,Private variables\n",
    "\n",
    "class Person:\n",
    "    def __init__(self,name,age):\n",
    "        self.__name = name    ##public variables\n",
    "        self.__age = age #public variable\n",
    "def get_name(self):\n",
    "        return self.name\n",
    " \n",
    "person = Person(\"tejas\",22)\n",
    "get_name(person)\n",
    "        "
   ]
  },
  {
   "cell_type": "code",
   "execution_count": 3,
   "id": "515ed666",
   "metadata": {},
   "outputs": [
    {
     "data": {
      "text/plain": [
       "['__class__',\n",
       " '__delattr__',\n",
       " '__dict__',\n",
       " '__dir__',\n",
       " '__doc__',\n",
       " '__eq__',\n",
       " '__firstlineno__',\n",
       " '__format__',\n",
       " '__ge__',\n",
       " '__getattribute__',\n",
       " '__getstate__',\n",
       " '__gt__',\n",
       " '__hash__',\n",
       " '__init__',\n",
       " '__init_subclass__',\n",
       " '__le__',\n",
       " '__lt__',\n",
       " '__module__',\n",
       " '__ne__',\n",
       " '__new__',\n",
       " '__reduce__',\n",
       " '__reduce_ex__',\n",
       " '__repr__',\n",
       " '__setattr__',\n",
       " '__sizeof__',\n",
       " '__static_attributes__',\n",
       " '__str__',\n",
       " '__subclasshook__',\n",
       " '__weakref__',\n",
       " 'age',\n",
       " 'name']"
      ]
     },
     "execution_count": 3,
     "metadata": {},
     "output_type": "execute_result"
    }
   ],
   "source": [
    "dir(person)"
   ]
  },
  {
   "cell_type": "code",
   "execution_count": 68,
   "id": "1e5a48f6",
   "metadata": {},
   "outputs": [
    {
     "ename": "AttributeError",
     "evalue": "'Person' object has no attribute 'get_name'",
     "output_type": "error",
     "traceback": [
      "\u001b[31m---------------------------------------------------------------------------\u001b[39m",
      "\u001b[31mAttributeError\u001b[39m                            Traceback (most recent call last)",
      "\u001b[36mCell\u001b[39m\u001b[36m \u001b[39m\u001b[32mIn[68]\u001b[39m\u001b[32m, line 17\u001b[39m\n\u001b[32m     15\u001b[39m person = Person(\u001b[33m\"\u001b[39m\u001b[33mtejas\u001b[39m\u001b[33m\"\u001b[39m,\u001b[32m32\u001b[39m,\u001b[33m\"\u001b[39m\u001b[33mMale\u001b[39m\u001b[33m\"\u001b[39m)\n\u001b[32m     16\u001b[39m \u001b[38;5;66;03m# get_name(person)\u001b[39;00m\n\u001b[32m---> \u001b[39m\u001b[32m17\u001b[39m \u001b[38;5;28mprint\u001b[39m(\u001b[43mperson\u001b[49m\u001b[43m.\u001b[49m\u001b[43mget_name\u001b[49m())\n",
      "\u001b[31mAttributeError\u001b[39m: 'Person' object has no attribute 'get_name'"
     ]
    }
   ],
   "source": [
    "class Person:\n",
    "    def __init__(self,name,age,gender):\n",
    "        self.__name = name    ##private variables\n",
    "        self.__age = age #private variable\n",
    "        self.__gender = gender\n",
    "\n",
    "def get_name(self):\n",
    "    return person.__name\n",
    "    \n",
    "\n",
    "\n",
    "\n",
    " \n",
    "        \n",
    "person = Person(\"tejas\",32,\"Male\")\n",
    "# get_name(person)\n",
    "print(person.get_name())\n"
   ]
  },
  {
   "cell_type": "code",
   "execution_count": 61,
   "id": "bed924c9",
   "metadata": {},
   "outputs": [
    {
     "data": {
      "text/plain": [
       "['_Person__age',\n",
       " '_Person__gender',\n",
       " '__class__',\n",
       " '__delattr__',\n",
       " '__dict__',\n",
       " '__dir__',\n",
       " '__doc__',\n",
       " '__eq__',\n",
       " '__firstlineno__',\n",
       " '__format__',\n",
       " '__ge__',\n",
       " '__getattribute__',\n",
       " '__getstate__',\n",
       " '__gt__',\n",
       " '__hash__',\n",
       " '__init__',\n",
       " '__init_subclass__',\n",
       " '__le__',\n",
       " '__lt__',\n",
       " '__module__',\n",
       " '__ne__',\n",
       " '__new__',\n",
       " '__reduce__',\n",
       " '__reduce_ex__',\n",
       " '__repr__',\n",
       " '__setattr__',\n",
       " '__sizeof__',\n",
       " '__static_attributes__',\n",
       " '__str__',\n",
       " '__subclasshook__',\n",
       " '__weakref__',\n",
       " '_name',\n",
       " 'get_name']"
      ]
     },
     "execution_count": 61,
     "metadata": {},
     "output_type": "execute_result"
    }
   ],
   "source": [
    "dir(person)"
   ]
  },
  {
   "cell_type": "code",
   "execution_count": null,
   "id": "f5dc55b1",
   "metadata": {},
   "outputs": [],
   "source": []
  },
  {
   "cell_type": "code",
   "execution_count": 51,
   "id": "87602355",
   "metadata": {},
   "outputs": [
    {
     "name": "stdout",
     "output_type": "stream",
     "text": [
      "tejas\n",
      "tejas\n"
     ]
    }
   ],
   "source": [
    "## protectde class -- self._name\n",
    "class Person:\n",
    "    def __init__(self,name,age,gender):\n",
    "        self._name = name    ##protected variables\n",
    "        self._age = age     #protected variable\n",
    "        self._gender = gender\n",
    "\n",
    "class Employee(Person):\n",
    "    def __init__(self,name,age,gender):\n",
    "        super().__init__(name,age,gender)\n",
    "\n",
    "    def get_name(self):\n",
    "        return self._name\n",
    "\n",
    "# person = Person(\"tejas\",21,\"Male\")\n",
    "\n",
    "# print(person.name)\n",
    "\n",
    "emp = Employee(\"tejas\",21,\"M\")\n",
    "print(emp._name)\n",
    "\n",
    "print(emp.get_name())\n"
   ]
  },
  {
   "cell_type": "code",
   "execution_count": 72,
   "id": "d2731eb3",
   "metadata": {},
   "outputs": [
    {
     "name": "stdout",
     "output_type": "stream",
     "text": [
      "22\n",
      "tejas\n",
      "23\n"
     ]
    }
   ],
   "source": [
    "##Encapsulation with getter and setter\n",
    "\n",
    "class Person:\n",
    "    def __init__(self,name,age):\n",
    "        self.__name = name ##private access modifire or variable\n",
    "        self.__age = age\n",
    "\n",
    "    ##getter method for name\n",
    "    def get_name(self):\n",
    "        return self.__name\n",
    "    \n",
    "    ## setter method for name \n",
    "    def set_name(self,new_name):\n",
    "        self.__name = new_name\n",
    "\n",
    "    #getter method for age\n",
    "    def get_age(self):\n",
    "        return self.__age\n",
    "    \n",
    "    ##setter method for age\n",
    "\n",
    "    def set_age(self, new_age):\n",
    "        if new_age > 0:\n",
    "            self.__age = new_age\n",
    "        else:\n",
    "            print(\"age cannot be negative\")\n",
    "\n",
    "person = Person(\"tejas\",22)\n",
    "\n",
    "##access and modify private variable using getter and setter\n",
    "\n",
    "print(person.get_age())\n",
    "print(person.get_name())\n",
    "\n",
    "person.set_age(23)\n",
    "print(person.get_age())"
   ]
  },
  {
   "cell_type": "code",
   "execution_count": 77,
   "id": "2d23b3c8",
   "metadata": {},
   "outputs": [
    {
     "name": "stdout",
     "output_type": "stream",
     "text": [
      "160\n",
      "187\n",
      "15\n"
     ]
    }
   ],
   "source": [
    "class Run:\n",
    "    def __init__(self,run,over):\n",
    "        self.__run = run\n",
    "        self.__over = over\n",
    "\n",
    "    #getter method for run    \n",
    "    def get_run(self):\n",
    "        return self.__run\n",
    "    \n",
    "    #setter method for run\n",
    "    def set_run(self,new_run):\n",
    "        if isinstance(new_run , int):\n",
    "          self.__run = new_run\n",
    "\n",
    "        else:\n",
    "            print(\"enter correct run\")\n",
    "\n",
    "    #getter for over\n",
    "    def get_over(self):\n",
    "        return self.__over\n",
    "    \n",
    "    ##setter method for over\n",
    "    def set_over(self,new_over):\n",
    "        self.__over = new_over\n",
    "\n",
    "\n",
    "\n",
    "team = Run(160,12)\n",
    "\n",
    "print(team.get_run())\n",
    "\n",
    "team.set_run(187)\n",
    "print(team.get_run())\n",
    "\n",
    "team.set_over(15)\n",
    "print(team.get_over())\n",
    "    \n"
   ]
  },
  {
   "cell_type": "code",
   "execution_count": null,
   "id": "50aa1041",
   "metadata": {},
   "outputs": [],
   "source": []
  },
  {
   "cell_type": "code",
   "execution_count": 83,
   "id": "54bce259",
   "metadata": {},
   "outputs": [
    {
     "name": "stdout",
     "output_type": "stream",
     "text": [
      "tejas\n",
      "omkar\n"
     ]
    }
   ],
   "source": [
    "class Information:\n",
    "    def __init__(self,name,roll_no):\n",
    "        self.__name = name\n",
    "        self.__roll_no = roll_no\n",
    "        \n",
    "\n",
    "    #getter for name\n",
    "    def get_name(self):\n",
    "        return self.__name\n",
    "    \n",
    "    #setter for new name\n",
    "\n",
    "    def set_name(self,new_name):\n",
    "        self.__name = new_name\n",
    "\n",
    "    #getter for roll_no\n",
    "    def get_roll_no(self):\n",
    "        return self.__roll_no\n",
    "    \n",
    "    ##setter for new roll_no\n",
    "\n",
    "    def get_new_roll_no(self,new_roll_no):\n",
    "        self.__roll_no = new_roll_no\n",
    "\n",
    "\n",
    "student = Information(\"tejas\",27)\n",
    "\n",
    "print(student.get_name())\n",
    "\n",
    "student.set_name(\"omkar\")\n",
    "print(student.get_name())"
   ]
  },
  {
   "cell_type": "code",
   "execution_count": null,
   "id": "38dd8fa3",
   "metadata": {},
   "outputs": [],
   "source": []
  }
 ],
 "metadata": {
  "kernelspec": {
   "display_name": "Python 3",
   "language": "python",
   "name": "python3"
  },
  "language_info": {
   "codemirror_mode": {
    "name": "ipython",
    "version": 3
   },
   "file_extension": ".py",
   "mimetype": "text/x-python",
   "name": "python",
   "nbconvert_exporter": "python",
   "pygments_lexer": "ipython3",
   "version": "3.13.1"
  }
 },
 "nbformat": 4,
 "nbformat_minor": 5
}
