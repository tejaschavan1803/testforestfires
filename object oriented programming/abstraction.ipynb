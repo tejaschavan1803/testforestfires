{
 "cells": [
  {
   "cell_type": "markdown",
   "id": "718f8cff",
   "metadata": {},
   "source": [
    "abstraction - abstraction is the concept of hiding the complex implementation detail and showing only the necessary features of an object reduce complexity\n"
   ]
  },
  {
   "cell_type": "code",
   "execution_count": 1,
   "id": "78195a95",
   "metadata": {},
   "outputs": [
    {
     "name": "stdout",
     "output_type": "stream",
     "text": [
      "car engine started\n",
      "the vehicle is use for driving\n"
     ]
    }
   ],
   "source": [
    "from abc import ABC,abstractmethod\n",
    "\n",
    "##Abstract base class\n",
    "class Vehicle(ABC):\n",
    "    def drive(self):\n",
    "        print(\"the vehicle is use for driving\")\n",
    "\n",
    "    @abstractmethod\n",
    "    def start_engine(self):\n",
    "        pass\n",
    "\n",
    "\n",
    "#child class\n",
    "class Car(Vehicle):\n",
    "    def start_engine(self):\n",
    "        print(\"car engine started\")\n",
    "\n",
    "    \n",
    "def operate_vehicle(vehicle):\n",
    "    vehicle.start_engine()\n",
    "    vehicle.drive()\n",
    "\n",
    "car = Car()\n",
    "operate_vehicle(car)"
   ]
  },
  {
   "cell_type": "code",
   "execution_count": 22,
   "id": "ea059e46",
   "metadata": {},
   "outputs": [
    {
     "name": "stdout",
     "output_type": "stream",
     "text": [
      "1 2 3 4 5\n",
      "bowler ready to deliverd the first ball of over\n",
      "batsman took the 1 run\n",
      "second ball to goes\n"
     ]
    }
   ],
   "source": [
    "from abc import ABC,abstractmethod\n",
    "class Match(ABC):\n",
    "    def first_match(self):\n",
    "        print(\"1 2 3 4 5\")\n",
    "\n",
    "    @abstractmethod\n",
    "    def match_start(self):\n",
    "        pass\n",
    "\n",
    "#child class\n",
    "class Done(Match):\n",
    "    def match_start(self):\n",
    "        print(\"bowler ready to deliverd the first ball of over\")\n",
    "        print(\"batsman took the 1 run\")\n",
    "        print(\"second ball to goes\")\n",
    "\n",
    "\n",
    "def result(match):\n",
    "    match.first_match()\n",
    "    match.match_start()\n",
    "\n",
    "\n",
    "team1 = Done()\n",
    "result(team1)\n",
    "\n",
    "\n",
    "\n"
   ]
  },
  {
   "cell_type": "code",
   "execution_count": null,
   "id": "4c3c1af1",
   "metadata": {},
   "outputs": [],
   "source": []
  },
  {
   "cell_type": "code",
   "execution_count": 16,
   "id": "d4023e19",
   "metadata": {},
   "outputs": [
    {
     "name": "stdout",
     "output_type": "stream",
     "text": [
      "1 2 3 4 5\n",
      "payment is successfull\n"
     ]
    }
   ],
   "source": [
    "from abc import ABC,abstractmethod\n",
    "\n",
    "##base class\n",
    "class Transaction:\n",
    "    def transaction_start(self):\n",
    "        print(\"1 2 3 4 5\")\n",
    "\n",
    "    @abstractmethod\n",
    "    def payment_successfull(self):\n",
    "        pass\n",
    "\n",
    "#child class\n",
    "class Done(Transaction):\n",
    "    def payment_successfull(self):\n",
    "        print(\"payment is successfull\")\n",
    "\n",
    "def result(transaction):\n",
    "    transaction.transaction_start()\n",
    "    transaction.payment_successfull()\n",
    "\n",
    "\n",
    "tr1 = Done()\n",
    "result(tr1)"
   ]
  },
  {
   "cell_type": "code",
   "execution_count": 24,
   "id": "f8f0e1f4",
   "metadata": {},
   "outputs": [
    {
     "name": "stdout",
     "output_type": "stream",
     "text": [
      "circle area: 78.5\n",
      "circle perimeter: 31.400000000000002\n"
     ]
    }
   ],
   "source": [
    "from abc import ABC,abstractmethod\n",
    "class Shape(ABC):\n",
    "\n",
    "\n",
    "\n",
    "    @abstractmethod\n",
    "    def area(self):\n",
    "        pass\n",
    "    @abstractmethod\n",
    "    def perimeter():\n",
    "        pass\n",
    "\n",
    "#subclass\n",
    "class Circle(Shape):\n",
    "    def __init__(self,radius):\n",
    "        self.radius = radius\n",
    "\n",
    "    def area(self):\n",
    "        return 3.14 * self.radius * self.radius\n",
    "    \n",
    "    def perimeter(self):\n",
    "        return 2 * 3.14 * self.radius\n",
    "    \n",
    "class Rectagle(Shape):\n",
    "    def __init__(self,width,height):\n",
    "        self.width =width\n",
    "        self.height = height\n",
    "\n",
    "    def area(self):\n",
    "        return self.width * self.height\n",
    "    \n",
    "    def perimeter(self):\n",
    "        return 2 * (self.width + self.height)\n",
    "    \n",
    "\n",
    "circle = Circle(5)\n",
    "rectangle = Rectagle(4,6)\n",
    "\n",
    "print(\"circle area:\",circle.area())\n",
    "print(\"circle perimeter:\",circle.perimeter())"
   ]
  },
  {
   "cell_type": "code",
   "execution_count": 1,
   "id": "34c46411",
   "metadata": {},
   "outputs": [
    {
     "data": {
      "text/plain": [
       "8"
      ]
     },
     "execution_count": 1,
     "metadata": {},
     "output_type": "execute_result"
    }
   ],
   "source": [
    "2 ** 3"
   ]
  },
  {
   "cell_type": "code",
   "execution_count": 2,
   "id": "e894df4f",
   "metadata": {},
   "outputs": [
    {
     "data": {
      "text/plain": [
       "1"
      ]
     },
     "execution_count": 2,
     "metadata": {},
     "output_type": "execute_result"
    }
   ],
   "source": [
    "1 **2"
   ]
  },
  {
   "cell_type": "code",
   "execution_count": 3,
   "id": "bf8908d4",
   "metadata": {},
   "outputs": [
    {
     "data": {
      "text/plain": [
       "16"
      ]
     },
     "execution_count": 3,
     "metadata": {},
     "output_type": "execute_result"
    }
   ],
   "source": [
    "4 ** 2"
   ]
  },
  {
   "cell_type": "code",
   "execution_count": 4,
   "id": "9cc286c9",
   "metadata": {},
   "outputs": [
    {
     "data": {
      "text/plain": [
       "0.8235294117647058"
      ]
     },
     "execution_count": 4,
     "metadata": {},
     "output_type": "execute_result"
    }
   ],
   "source": [
    "14/17\n"
   ]
  },
  {
   "cell_type": "code",
   "execution_count": null,
   "id": "ca3e5670",
   "metadata": {},
   "outputs": [],
   "source": []
  },
  {
   "cell_type": "code",
   "execution_count": null,
   "id": "8674437f",
   "metadata": {},
   "outputs": [],
   "source": []
  },
  {
   "cell_type": "markdown",
   "id": "dcc3747a",
   "metadata": {},
   "source": [
    "\n"
   ]
  }
 ],
 "metadata": {
  "kernelspec": {
   "display_name": "Python 3",
   "language": "python",
   "name": "python3"
  },
  "language_info": {
   "codemirror_mode": {
    "name": "ipython",
    "version": 3
   },
   "file_extension": ".py",
   "mimetype": "text/x-python",
   "name": "python",
   "nbconvert_exporter": "python",
   "pygments_lexer": "ipython3",
   "version": "3.13.1"
  }
 },
 "nbformat": 4,
 "nbformat_minor": 5
}
