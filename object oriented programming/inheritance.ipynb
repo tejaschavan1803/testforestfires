{
 "cells": [
  {
   "cell_type": "markdown",
   "id": "2349e468",
   "metadata": {},
   "source": [
    "Inheritance in python\n",
    "\n",
    "allows class to inherent attributes and methods from another classs"
   ]
  },
  {
   "cell_type": "code",
   "execution_count": 28,
   "id": "0c2ffd2e",
   "metadata": {},
   "outputs": [
    {
     "name": "stdout",
     "output_type": "stream",
     "text": [
      "4\n",
      "the person will drive the petrol car car\n"
     ]
    }
   ],
   "source": [
    "##inheritance\n",
    "##parent class\n",
    "class Car:\n",
    "    def __init__(self,windows,doors,enginetype):  #---- parent class\n",
    "        self.windows = windows\n",
    "        self.doors = doors\n",
    "        self.enginetype = enginetype\n",
    "    \n",
    "    def drive(self):\n",
    "        print(f\"the person will drive the {self.enginetype} car\")\n",
    "\n",
    "car1= Car(4,5,\"petrol car\")\n",
    "print(car1.windows)\n",
    "car1.drive()\n"
   ]
  },
  {
   "cell_type": "code",
   "execution_count": 4,
   "id": "70392e3d",
   "metadata": {},
   "outputs": [],
   "source": [
    "class Tesla(Car):    #-----child class\n",
    "    def __init__(self, windows, doors, enginetype,is_selfdriving):\n",
    "        super().__init__(windows, doors, enginetype)   #--parent class attribute\n",
    "        self.is_selfdriving = is_selfdriving\n",
    "\n",
    "    def selfdriving(self):\n",
    "        print(f\"tesla supports self driving :{self.is_selfdriving}\")\n"
   ]
  },
  {
   "cell_type": "code",
   "execution_count": 21,
   "id": "0bc0f3cf",
   "metadata": {},
   "outputs": [
    {
     "name": "stdout",
     "output_type": "stream",
     "text": [
      "4\n",
      "4\n",
      "True\n",
      "tesla supports self driving :True\n",
      "None\n",
      "the person will drive the electric car\n"
     ]
    }
   ],
   "source": [
    "tesla1 = Tesla(4,4,\"electric \",True)\n",
    "\n",
    "print(tesla1.doors)\n",
    "print(tesla1.windows)\n",
    "print(tesla1.is_selfdriving)\n",
    "print(tesla1.selfdriving())\n",
    "tesla1.drive()"
   ]
  },
  {
   "cell_type": "code",
   "execution_count": null,
   "id": "97370ab4",
   "metadata": {},
   "outputs": [],
   "source": []
  },
  {
   "cell_type": "code",
   "execution_count": 31,
   "id": "7d1e9eb3",
   "metadata": {},
   "outputs": [
    {
     "name": "stdout",
     "output_type": "stream",
     "text": [
      "4\n",
      "buddy\n",
      "tejas\n",
      "buddy say woof!\n",
      "owner:tejas\n",
      "tejas says to buddy to sit down\n",
      "None\n"
     ]
    }
   ],
   "source": [
    "##multiple inheriance\n",
    "##when a class inheritance more than one base class\n",
    "\n",
    "class Animal:                  ##base class 1\n",
    "    def __init__(self,name):\n",
    "        self.name = name\n",
    "\n",
    "    def speak(self):\n",
    "        print(\"subclasses must implemented this method\")\n",
    "\n",
    "class Pet:                  ##base class 2\n",
    "    def __init__(self,owner):\n",
    "        self.owner = owner\n",
    "\n",
    "##derived class\n",
    "##inherenting both the class 1 and class2\n",
    "#child class\n",
    "class Dog(Animal,Pet):\n",
    "    def __init__(self, name,owner,dog_age):\n",
    "        Animal.__init__(self,name)\n",
    "        Pet.__init__(self,owner)\n",
    "        self.dog_age = dog_age\n",
    "\n",
    "    def speak(self):\n",
    "        return print(f\"{self.name} say woof!\")\n",
    "    \n",
    "    def scene(self):\n",
    "        return print(f\"{self.owner} says to {self.name} to sit down\")\n",
    "    \n",
    "\n",
    "##create an object\n",
    "\n",
    "dog = Dog(\"buddy\",\"tejas\",4)\n",
    "print(dog.dog_age)\n",
    "print(dog.name)\n",
    "print(dog.owner)\n",
    "dog.speak()\n",
    "print(f\"owner:{dog.owner}\")\n",
    "print(dog.scene())\n",
    "        "
   ]
  }
 ],
 "metadata": {
  "kernelspec": {
   "display_name": "Python 3",
   "language": "python",
   "name": "python3"
  },
  "language_info": {
   "codemirror_mode": {
    "name": "ipython",
    "version": 3
   },
   "file_extension": ".py",
   "mimetype": "text/x-python",
   "name": "python",
   "nbconvert_exporter": "python",
   "pygments_lexer": "ipython3",
   "version": "3.13.1"
  }
 },
 "nbformat": 4,
 "nbformat_minor": 5
}
