{
 "cells": [
  {
   "cell_type": "markdown",
   "metadata": {},
   "source": [
    "## 1. Syntax and Semantics\n",
    "\n",
    "**Question 1:** Write a Python program to print \"Hello, World!\"."
   ]
  },
  {
   "cell_type": "code",
   "execution_count": 1,
   "metadata": {},
   "outputs": [
    {
     "name": "stdout",
     "output_type": "stream",
     "text": [
      "hello world!\n"
     ]
    }
   ],
   "source": [
    "# Your code here\n",
    "print(\"hello world!\")"
   ]
  },
  {
   "cell_type": "markdown",
   "metadata": {},
   "source": [
    "**Question 2:** Write a Python program that takes a user input and prints it."
   ]
  },
  {
   "cell_type": "code",
   "execution_count": 2,
   "metadata": {},
   "outputs": [
    {
     "name": "stdout",
     "output_type": "stream",
     "text": [
      "tejas\n"
     ]
    }
   ],
   "source": [
    "# Your code here\n",
    "name = input(\"name :\")\n",
    "print(name)"
   ]
  },
  {
   "cell_type": "markdown",
   "metadata": {},
   "source": [
    "**Question 3:** Write a Python program to check if a number is positive, negative, or zero."
   ]
  },
  {
   "cell_type": "code",
   "execution_count": 4,
   "metadata": {},
   "outputs": [
    {
     "name": "stdout",
     "output_type": "stream",
     "text": [
      "number is negative\n"
     ]
    }
   ],
   "source": [
    "# Your code here\n",
    "number = int(input(\"enter a number :\"))\n",
    "\n",
    "if number > 0:\n",
    "    print(\"number is positive\")\n",
    "elif number < 0:\n",
    "    print(\"number is negative\")\n",
    "elif number == 0:\n",
    "    print(\"number is zero\")"
   ]
  },
  {
   "cell_type": "markdown",
   "metadata": {},
   "source": [
    "**Question 4:** Write a Python program to find the largest of three numbers."
   ]
  },
  {
   "cell_type": "code",
   "execution_count": 7,
   "metadata": {},
   "outputs": [
    {
     "name": "stdout",
     "output_type": "stream",
     "text": [
      "num2 is greater \n"
     ]
    }
   ],
   "source": [
    "# Your code here\n",
    "num1 = 12\n",
    "num2 = 13 \n",
    "num3 = 11\n",
    "\n",
    "if num1>num2 and num1>num3:\n",
    "    print(\"num1 is greater\")\n",
    "if num2 > num1 and num2 > num3:\n",
    "        print(\"num2 is greater \")\n",
    "elif num3 >num1 and num3> num2:\n",
    "       print(\"num3 is greater\")"
   ]
  },
  {
   "cell_type": "markdown",
   "metadata": {},
   "source": [
    "**Question 5:** Write a Python program to calculate the factorial of a number."
   ]
  },
  {
   "cell_type": "code",
   "execution_count": 9,
   "metadata": {},
   "outputs": [
    {
     "name": "stdout",
     "output_type": "stream",
     "text": [
      "120\n"
     ]
    }
   ],
   "source": [
    "# Your code here\n",
    "number = 5\n",
    "\n",
    "fact = 1\n",
    "\n",
    "for i in range(1, number + 1):\n",
    "    fact *= i\n",
    "print(fact)\n"
   ]
  },
  {
   "cell_type": "markdown",
   "metadata": {},
   "source": [
    "## 2. Variables and Data Types\n",
    "\n",
    "**Question 6:** Create variables of different data types: integer, float, string, and boolean. Print their values and types."
   ]
  },
  {
   "cell_type": "code",
   "execution_count": 2,
   "metadata": {},
   "outputs": [
    {
     "name": "stdout",
     "output_type": "stream",
     "text": [
      "<class 'int'>\n",
      "<class 'float'>\n",
      "<class 'str'>\n",
      "<class 'bool'>\n"
     ]
    }
   ],
   "source": [
    "# Your code here\n",
    "\n",
    "age = 12\n",
    "grade = 75.3\n",
    "name = \"tejas\"\n",
    "value1 = True\n",
    "\n",
    "print(type(age))\n",
    "print(type(grade))\n",
    "print(type(name))\n",
    "print(type(value1))\n"
   ]
  },
  {
   "cell_type": "markdown",
   "metadata": {},
   "source": [
    "**Question 7:** Write a Python program to swap the values of two variables."
   ]
  },
  {
   "cell_type": "code",
   "execution_count": 3,
   "metadata": {},
   "outputs": [
    {
     "name": "stdout",
     "output_type": "stream",
     "text": [
      "5\n",
      "3\n"
     ]
    }
   ],
   "source": [
    "# Your code here\n",
    "a = 3\n",
    "b = 5\n",
    "\n",
    "temp = a \n",
    "a = b\n",
    "b = temp\n",
    "\n",
    "print(a)\n",
    "print(b)\n",
    "\n"
   ]
  },
  {
   "cell_type": "markdown",
   "metadata": {},
   "source": [
    "**Question 8:** Write a Python program to convert Celsius to Fahrenheit."
   ]
  },
  {
   "cell_type": "code",
   "execution_count": 15,
   "metadata": {},
   "outputs": [
    {
     "name": "stdout",
     "output_type": "stream",
     "text": [
      "109.4\n",
      "temprature in Fahrenheit is :None\n",
      "-14.600000000000001\n",
      "temprature in Celcius is :None\n"
     ]
    }
   ],
   "source": [
    "# Your code here\n",
    "def my_function(temprature,unit):\n",
    "    if unit == \"c\":\n",
    "        print(temprature *9/5 + 32 )\n",
    "    elif unit == \"F\":\n",
    "        print(temprature -32*9/5)\n",
    "    else:\n",
    "        return None\n",
    "    \n",
    "temp = my_function(43,\"c\")\n",
    "print(f\"temprature in Fahrenheit is :{temp}\")\n",
    "\n",
    "temp = my_function(43,\"F\")\n",
    "print(f\"temprature in Celcius is :{temp}\")"
   ]
  },
  {
   "cell_type": "markdown",
   "metadata": {},
   "source": [
    "**Question 9:** Write a Python program to concatenate two strings."
   ]
  },
  {
   "cell_type": "code",
   "execution_count": 17,
   "metadata": {},
   "outputs": [
    {
     "name": "stdout",
     "output_type": "stream",
     "text": [
      "tejas chavan \n"
     ]
    }
   ],
   "source": [
    "# Your code here\n",
    "str1 = \"tejas \"\n",
    "str2 = \"chavan \"\n",
    "print(str1 + str2)"
   ]
  },
  {
   "cell_type": "markdown",
   "metadata": {},
   "source": [
    "**Question 10:** Write a Python program to check if a variable is of a specific data type."
   ]
  },
  {
   "cell_type": "code",
   "execution_count": 8,
   "metadata": {},
   "outputs": [
    {
     "name": "stdout",
     "output_type": "stream",
     "text": [
      "number is float\n"
     ]
    }
   ],
   "source": [
    "\n",
    "# Your code here\n",
    "var1 = 3.2\n",
    "\n",
    "if type(var1) == float:\n",
    "        print(\"number is float\")\n",
    "        if  type(var1)  == int:\n",
    "                print(\"number is int \")\n",
    "\n",
    "\n",
    "\n",
    "    "
   ]
  },
  {
   "cell_type": "markdown",
   "metadata": {},
   "source": [
    "## 3. Basic Operators (Arithmetic, Comparison, Logical)\n",
    "\n",
    "**Question 11:** Write a Python program to perform arithmetic operations: addition, subtraction, multiplication, and division."
   ]
  },
  {
   "cell_type": "code",
   "execution_count": 10,
   "metadata": {},
   "outputs": [
    {
     "name": "stdout",
     "output_type": "stream",
     "text": [
      "addition: 36\n",
      "substraction: -12\n",
      "multiplication: 1728\n",
      "division: 0.08333333333333333\n"
     ]
    }
   ],
   "source": [
    "# Your code here\n",
    "num1 = int(input(\"Enter your first number :\"))\n",
    "num2 = int(input(\"Enter your second number:\"))\n",
    "num3 = int(input(\"Enter your third number :\"))\n",
    "\n",
    "addition = num1+num2+num3\n",
    "substraction = num1-num1-num3\n",
    "multiplication = num1*num2*num3\n",
    "division = num1/num2/num3\n",
    "\n",
    "print(\"addition:\",addition)\n",
    "print(\"substraction:\",substraction)\n",
    "print(\"multiplication:\",multiplication)\n",
    "print(\"division:\",division)"
   ]
  },
  {
   "cell_type": "markdown",
   "metadata": {},
   "source": [
    "**Question 12:** Write a Python program to demonstrate comparison operators: equal to, not equal to, greater than, less than."
   ]
  },
  {
   "cell_type": "code",
   "execution_count": 12,
   "metadata": {},
   "outputs": [
    {
     "name": "stdout",
     "output_type": "stream",
     "text": [
      "str 1 is greater\n"
     ]
    }
   ],
   "source": [
    "# Your code here\n",
    "string1 = \"ATTTAGCTAAA\"\n",
    "string2 = \"TTATATAT\"\n",
    "\n",
    "if len(string1) > len(string2):\n",
    "    print(\"str 1 is greater\")\n",
    "else:\n",
    "    print(\"string 2 is greater\")"
   ]
  },
  {
   "cell_type": "markdown",
   "metadata": {},
   "source": [
    "**Question 13:** Write a Python program to demonstrate logical operators: and, or, not."
   ]
  },
  {
   "cell_type": "code",
   "execution_count": 34,
   "metadata": {},
   "outputs": [
    {
     "name": "stdout",
     "output_type": "stream",
     "text": [
      "False\n",
      "True\n",
      "True\n",
      "False\n"
     ]
    }
   ],
   "source": [
    "# Your code here\n",
    "\n",
    "value1 = True\n",
    "value2 = False\n",
    "\n",
    "print(value1 and value2)\n",
    "print(value1 or value2)\n",
    "print(not value2)\n",
    "print(not value1)\n",
    "\n"
   ]
  },
  {
   "cell_type": "markdown",
   "metadata": {},
   "source": [
    "**Question 14:** Write a Python program to calculate the square of a number."
   ]
  },
  {
   "cell_type": "code",
   "execution_count": 36,
   "metadata": {},
   "outputs": [
    {
     "name": "stdout",
     "output_type": "stream",
     "text": [
      "23\n",
      "None\n",
      "4\n"
     ]
    }
   ],
   "source": [
    "# Your code here\n",
    "def square(number):\n",
    "    number **2\n",
    "    print(number)\n",
    "\n",
    "squared_num = square(23)\n",
    "print(squared_num)\n",
    "\n",
    "\n",
    "number = 2\n",
    "print(number**2)"
   ]
  },
  {
   "cell_type": "markdown",
   "metadata": {},
   "source": [
    "**Question 15:** Write a Python program to check if a number is even or odd."
   ]
  },
  {
   "cell_type": "code",
   "execution_count": 37,
   "metadata": {},
   "outputs": [
    {
     "name": "stdout",
     "output_type": "stream",
     "text": [
      "number is odd\n"
     ]
    }
   ],
   "source": [
    "# Your code here\n",
    "\n",
    "num = int(input(\"enter your number :\"))\n",
    "\n",
    "if num%2==0:\n",
    "    print(\"number is even\")\n",
    "elif num%2!=0:\n",
    "    print(\"number is odd\")"
   ]
  },
  {
   "cell_type": "markdown",
   "metadata": {},
   "source": [
    "**Question 16:** Write a Python program to find the sum of the first n natural numbers."
   ]
  },
  {
   "cell_type": "code",
   "execution_count": 42,
   "metadata": {},
   "outputs": [
    {
     "name": "stdout",
     "output_type": "stream",
     "text": [
      "55\n"
     ]
    }
   ],
   "source": [
    "# Your code here\n",
    "n = 10\n",
    "\n",
    "sum_of_natural_num = n * (n+1)//2\n",
    "print(sum_of_natural_num)"
   ]
  },
  {
   "cell_type": "markdown",
   "metadata": {},
   "source": [
    "**Question 17:** Write a Python program to check if a year is a leap year."
   ]
  },
  {
   "cell_type": "code",
   "execution_count": 58,
   "metadata": {},
   "outputs": [
    {
     "name": "stdout",
     "output_type": "stream",
     "text": [
      "2025 is not a leap year.\n"
     ]
    }
   ],
   "source": [
    "# Your code here\n",
    "# Input from the user\n",
    "year = int(input(\"Enter a year: \"))\n",
    "\n",
    "# Leap year conditions\n",
    "if (year % 4 == 0 and year % 100 != 0) or (year % 400 == 0):\n",
    "    print(year, \"is a leap year.\")\n",
    "else:\n",
    "    print(year, \"is not a leap year.\")\n"
   ]
  },
  {
   "cell_type": "markdown",
   "metadata": {},
   "source": [
    "**Question 18:** Write a Python program to reverse a string."
   ]
  },
  {
   "cell_type": "code",
   "execution_count": 44,
   "metadata": {},
   "outputs": [
    {
     "name": "stdout",
     "output_type": "stream",
     "text": [
      "scitamrofnioib\n"
     ]
    }
   ],
   "source": [
    "# Your code here\n",
    "str1 = \"bioinformatics\"\n",
    "reversed = str1[::-1]\n",
    "print(reversed\n",
    "      )"
   ]
  },
  {
   "cell_type": "markdown",
   "metadata": {},
   "source": [
    "**Question 19:** Write a Python program to check if a string is a palindrome."
   ]
  },
  {
   "cell_type": "code",
   "execution_count": 54,
   "metadata": {},
   "outputs": [
    {
     "name": "stdout",
     "output_type": "stream",
     "text": [
      "None\n",
      "['scitamrofnioib']\n",
      "None\n",
      "it is not palindrome\n",
      "string is palindrome\n"
     ]
    }
   ],
   "source": [
    "# Your code here\n",
    "str1 = \"bioinformatics\"\n",
    "reversed = str1[::-1]\n",
    "\n",
    "\n",
    "list = []\n",
    "print(list.append(reversed))\n",
    "print(list)\n",
    "\n",
    "list2 = []\n",
    "print(list2.append(str1))\n",
    "\n",
    "if list == list2:\n",
    "    print(\"it is palindrome\")\n",
    "else:\n",
    "    print(\"it is not palindrome\")\n",
    "\n",
    "\n",
    "\n",
    "##\n",
    "character = \"ATA\"\n",
    "\n",
    "reversed = character[::-1]\n",
    "\n",
    "\n",
    "if character == reversed:\n",
    "    print(\"string is palindrome\")\n",
    "\n",
    "else:\n",
    "    print(\"string is not palindrome\")"
   ]
  },
  {
   "cell_type": "markdown",
   "metadata": {},
   "source": [
    "**Question 20:** Write a Python program to sort a list of numbers in ascending order."
   ]
  },
  {
   "cell_type": "code",
   "execution_count": 57,
   "metadata": {},
   "outputs": [
    {
     "name": "stdout",
     "output_type": "stream",
     "text": [
      "None\n",
      "[1, 2, 4, 5, 6, 8, 8]\n",
      "[8, 8, 6, 5, 4, 2, 1]\n"
     ]
    }
   ],
   "source": [
    "# Your code here\n",
    "number = [1,2,4,6,5,8,8]\n",
    "print(number.sort())\n",
    "print(number)\n",
    "\n",
    "number.sort(reverse=True)\n",
    "print(number)"
   ]
  }
 ],
 "metadata": {
  "kernelspec": {
   "display_name": "Python 3",
   "language": "python",
   "name": "python3"
  },
  "language_info": {
   "codemirror_mode": {
    "name": "ipython",
    "version": 3
   },
   "file_extension": ".py",
   "mimetype": "text/x-python",
   "name": "python",
   "nbconvert_exporter": "python",
   "pygments_lexer": "ipython3",
   "version": "3.13.1"
  }
 },
 "nbformat": 4,
 "nbformat_minor": 4
}
