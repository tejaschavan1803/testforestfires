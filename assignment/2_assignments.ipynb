{
 "cells": [
  {
   "cell_type": "markdown",
   "metadata": {},
   "source": [
    "# Module 2: Control Flow Assignments\n",
    "## Lesson 2.1: Conditional Statements\n",
    "### Assignment 1: Simple if Statement\n",
    "\n",
    "Write a program that asks the user to input a number and prints whether the number is positive.\n",
    "\n",
    "### Assignment 2: if-else Statement\n",
    "\n",
    "Write a program that asks the user to input a number and prints whether the number is positive or negative.\n",
    "\n",
    "### Assignment 3: if-elif-else Statement\n",
    "\n",
    "Write a program that asks the user to input a number and prints whether the number is positive, negative, or zero.\n",
    "\n",
    "### Assignment 4: Nested if Statement\n",
    "\n",
    "Write a program that asks the user to input a number and prints whether the number is positive and even, positive and odd, or negative.\n",
    "\n",
    "## Lesson 2.2: Loops\n",
    "### Assignment 5: for Loop\n",
    "\n",
    "Write a program that prints all the numbers from 1 to 10 using a for loop.\n",
    "\n",
    "### Assignment 6: while Loop\n",
    "\n",
    "Write a program that prints all the numbers from 1 to 10 using a while loop.\n",
    "\n",
    "### Assignment 7: Nested Loops\n",
    "\n",
    "Write a program that prints a 5x5 grid of asterisks (*) using nested loops.\n",
    "\n",
    "### Assignment 8: break Statement\n",
    "\n",
    "Write a program that asks the user to input numbers until they input 0. The program should print the sum of all the input numbers.\n",
    "\n",
    "### Assignment 9: continue Statement\n",
    "\n",
    "Write a program that prints all the numbers from 1 to 10 except 5 using a for loop and continue statement.\n",
    "\n",
    "### Assignment 10: pass Statement\n",
    "\n",
    "Write a program that defines an empty function using the pass statement.\n",
    "\n",
    "### Assignment 11: Combining Loops and Conditionals\n",
    "\n",
    "Write a program that asks the user to input a number and prints all the even numbers from 1 to that number using a for loop.\n",
    "\n",
    "### Assignment 12: Factorial Calculation\n",
    "\n",
    "Write a program that calculates the factorial of a number input by the user using a while loop.\n",
    "\n",
    "### Assignment 13: Sum of Digits\n",
    "\n",
    "Write a program that calculates the sum of the digits of a number input by the user using a while loop.\n",
    "\n",
    "### Assignment 14: Prime Number Check\n",
    "\n",
    "Write a program that checks if a number input by the user is a prime number using a for loop.\n",
    "\n",
    "### Assignment 15: Fibonacci Sequence\n",
    "\n",
    "Write a program that prints the first n Fibonacci numbers, where n is input by the user."
   ]
  },
  {
   "cell_type": "code",
   "execution_count": 2,
   "id": "c3ea0d1f",
   "metadata": {},
   "outputs": [
    {
     "name": "stdout",
     "output_type": "stream",
     "text": [
      "number is negative\n"
     ]
    }
   ],
   "source": [
    "### Assignment 1: Simple if Statement\n",
    "\n",
    "#Write a program that asks the user to input a number and prints whether the number is positive.\n",
    "\n",
    "number = int(input(\"Enter your number :\"))\n",
    "\n",
    "if number < 0:\n",
    "    print(\"number is negative\")\n",
    "\n",
    "elif number > 0 :\n",
    "    print(\"number is positive \")\n",
    "\n",
    "else:\n",
    "    print(\"number is zero\")\n"
   ]
  },
  {
   "cell_type": "code",
   "execution_count": 41,
   "id": "0468e801",
   "metadata": {},
   "outputs": [
    {
     "name": "stdout",
     "output_type": "stream",
     "text": [
      "number is either zero or negative\n"
     ]
    }
   ],
   "source": [
    "### Assignment 4: Nested if Statement\n",
    "#Write a program that asks the user to input a number and prints whether the number is positive and even, positive and odd, or negative.\n",
    "value = int(input(\"Enter your number :\"))\n",
    "if value >  0:\n",
    "    if value%2==0 and value > 0:\n",
    "       print(\"number is even and positive\")\n",
    "    else:\n",
    "       print(\"number is odd and positive\")\n",
    "\n",
    "else:\n",
    "    print(\"number is either zero or negative\")\n",
    "\n",
    "\n",
    "    \n",
    "\n",
    "        \n",
    "\n",
    "\n"
   ]
  },
  {
   "cell_type": "code",
   "execution_count": 42,
   "id": "94870de2",
   "metadata": {},
   "outputs": [
    {
     "name": "stdout",
     "output_type": "stream",
     "text": [
      "1\n",
      "2\n",
      "3\n",
      "4\n",
      "5\n",
      "6\n",
      "7\n",
      "8\n",
      "9\n",
      "10\n"
     ]
    }
   ],
   "source": [
    "### Assignment 5: for Loop\n",
    "\n",
    "#Write a program that prints all the numbers from 1 to 10 using a for loop.\n",
    "for i in range(1,11):\n",
    "    print(i)"
   ]
  },
  {
   "cell_type": "code",
   "execution_count": 2,
   "id": "b7edf394",
   "metadata": {},
   "outputs": [
    {
     "name": "stdout",
     "output_type": "stream",
     "text": [
      "1\n",
      "2\n",
      "3\n",
      "4\n",
      "5\n",
      "6\n",
      "7\n",
      "8\n",
      "9\n",
      "10\n"
     ]
    }
   ],
   "source": [
    "#Write a program that prints all the numbers from 1 to 10 using a while loop.\n",
    "\n",
    "num = 1\n",
    "\n",
    "\n",
    "while num < 11:\n",
    "        \n",
    "    print(num)\n",
    "    num += 1"
   ]
  },
  {
   "cell_type": "code",
   "execution_count": 46,
   "id": "0fc0e410",
   "metadata": {},
   "outputs": [
    {
     "name": "stdout",
     "output_type": "stream",
     "text": [
      "* * * * * \n",
      "* * * * * \n",
      "* * * * * \n",
      "* * * * * \n",
      "* * * * * \n"
     ]
    }
   ],
   "source": [
    "\n",
    "for i in range(1,6):\n",
    "    for j in range(1,6):\n",
    "       print(\"*\",end = \" \")\n",
    "    print()"
   ]
  },
  {
   "cell_type": "code",
   "execution_count": 48,
   "id": "7359a68f",
   "metadata": {},
   "outputs": [
    {
     "name": "stdout",
     "output_type": "stream",
     "text": [
      "15\n"
     ]
    }
   ],
   "source": [
    "\n",
    "#Write a program that asks the user to input numbers until they input 0. The program should print the sum of all the input numbers.\n",
    "\n",
    "total_sum = 0\n",
    "while True:\n",
    "    num = int(input(\"enter your number :\"))\n",
    "    if num == 0:\n",
    "        break\n",
    "\n",
    "    total_sum += num \n",
    "print(total_sum)\n",
    "    \n",
    "\n",
    "        \n",
    "    \n",
    "   "
   ]
  },
  {
   "cell_type": "code",
   "execution_count": 3,
   "id": "67bd7f48",
   "metadata": {},
   "outputs": [
    {
     "name": "stdout",
     "output_type": "stream",
     "text": [
      "6\n"
     ]
    }
   ],
   "source": [
    "num = 1 ,2,3\n",
    "print(sum(num))"
   ]
  },
  {
   "cell_type": "code",
   "execution_count": null,
   "id": "7823284a",
   "metadata": {},
   "outputs": [],
   "source": []
  },
  {
   "cell_type": "code",
   "execution_count": null,
   "id": "1b9f8fb8",
   "metadata": {},
   "outputs": [],
   "source": []
  },
  {
   "cell_type": "code",
   "execution_count": null,
   "id": "66f492bb",
   "metadata": {},
   "outputs": [],
   "source": []
  },
  {
   "cell_type": "code",
   "execution_count": null,
   "id": "a18d9367",
   "metadata": {},
   "outputs": [],
   "source": []
  },
  {
   "cell_type": "code",
   "execution_count": null,
   "id": "45162d64",
   "metadata": {},
   "outputs": [],
   "source": []
  },
  {
   "cell_type": "code",
   "execution_count": 2,
   "metadata": {},
   "outputs": [
    {
     "name": "stdout",
     "output_type": "stream",
     "text": [
      "45\n"
     ]
    }
   ],
   "source": [
    "sum_of_value = 0\n",
    "\n",
    "while True:\n",
    "    num = int(input(\"enter your num :\"))\n",
    "    if num == 0:\n",
    "        break\n",
    "    sum_of_value += num\n",
    "\n",
    "print(sum_of_value)"
   ]
  },
  {
   "cell_type": "code",
   "execution_count": null,
   "id": "589babed",
   "metadata": {},
   "outputs": [],
   "source": []
  },
  {
   "cell_type": "code",
   "execution_count": null,
   "id": "cee0f958",
   "metadata": {},
   "outputs": [],
   "source": []
  },
  {
   "cell_type": "code",
   "execution_count": null,
   "id": "bef819bb",
   "metadata": {},
   "outputs": [],
   "source": []
  },
  {
   "cell_type": "code",
   "execution_count": 6,
   "id": "16172a72",
   "metadata": {},
   "outputs": [
    {
     "name": "stdout",
     "output_type": "stream",
     "text": [
      "final count of positive number:  6\n"
     ]
    }
   ],
   "source": [
    "number = [1,-2,3,-4,5,6,-7,-8,9,10]\n",
    "positive_number_count = 0\n",
    "for num in number:\n",
    "    if num > 0:\n",
    "        positive_number_count += 1\n",
    "\n",
    "print(\"final count of positive number: \",positive_number_count)"
   ]
  },
  {
   "cell_type": "code",
   "execution_count": 7,
   "id": "879d1f9f",
   "metadata": {},
   "outputs": [
    {
     "name": "stdout",
     "output_type": "stream",
     "text": [
      "sum of even number is :  5\n"
     ]
    }
   ],
   "source": [
    "n = 10\n",
    "sum_even = 0\n",
    "\n",
    "\n",
    "for i in range(1, n+1):\n",
    "    if i %2 == 0:\n",
    "        sum_even += 1\n",
    "\n",
    "print(\"sum of even number is : \",sum_even)\n",
    "\n"
   ]
  },
  {
   "cell_type": "code",
   "execution_count": 11,
   "id": "fe169ba2",
   "metadata": {},
   "outputs": [
    {
     "name": "stdout",
     "output_type": "stream",
     "text": [
      "3 X 1 = 3\n",
      "3 X 2 = 6\n",
      "3 X 3 = 9\n",
      "3 X 4 = 12\n",
      "3 X 6 = 18\n",
      "3 X 7 = 21\n",
      "3 X 8 = 24\n",
      "3 X 9 = 27\n",
      "3 X 10 = 30\n"
     ]
    }
   ],
   "source": [
    "number = 3\n",
    "\n",
    "for i in range(1,11):\n",
    "    if i == 5:\n",
    "       continue\n",
    "    print(number,'X',i,'=',number * i)\n",
    "    "
   ]
  },
  {
   "cell_type": "code",
   "execution_count": 1,
   "id": "4cc40dca",
   "metadata": {},
   "outputs": [
    {
     "name": "stdout",
     "output_type": "stream",
     "text": [
      "nohtyp\n"
     ]
    }
   ],
   "source": [
    "input_str = \"python\"\n",
    "reversed_str = \"\"\n",
    "\n",
    "for char in input_str:\n",
    "    reversed_str = char + reversed_str\n",
    "\n",
    "print(reversed_str)"
   ]
  },
  {
   "cell_type": "code",
   "execution_count": 18,
   "id": "06a95897",
   "metadata": {},
   "outputs": [
    {
     "name": "stdout",
     "output_type": "stream",
     "text": [
      "t\n",
      "e\n",
      "e\n",
      "t\n",
      "e\n",
      "r\n",
      "char is : r\n"
     ]
    }
   ],
   "source": [
    "## find the first non-repeated character\n",
    "input_str = \"teeteracddea\"\n",
    "\n",
    "for char in input_str:\n",
    "    print(char)\n",
    "    if input_str.count(char) == 1:\n",
    "        print(\"char is :\",char)\n",
    "        break\n"
   ]
  },
  {
   "cell_type": "code",
   "execution_count": 4,
   "id": "fc613dee",
   "metadata": {},
   "outputs": [
    {
     "name": "stdout",
     "output_type": "stream",
     "text": [
      "120\n"
     ]
    }
   ],
   "source": [
    "## compute factorial of a number using a while loop\n",
    "number = 5\n",
    "factorial = 1\n",
    "i = 1\n",
    "\n",
    "while i <= number:\n",
    "    factorial *= i\n",
    "    i = i + 1\n",
    "\n",
    "print(factorial)\n",
    "    \n"
   ]
  },
  {
   "cell_type": "code",
   "execution_count": 7,
   "id": "f212ce7e",
   "metadata": {},
   "outputs": [
    {
     "name": "stdout",
     "output_type": "stream",
     "text": [
      "15\n"
     ]
    }
   ],
   "source": [
    "\n",
    "#Write a program that calculates the sum of the digits of a number input by the user using a while loop.\n",
    "sum_of_value = 0\n",
    "\n",
    "while True:\n",
    "    num = int(input(\"enter your number :\"))\n",
    "    if num == 0:\n",
    "        break\n",
    "    else:\n",
    "        sum_of_value += num\n",
    "\n",
    "print(sum_of_value)\n"
   ]
  },
  {
   "cell_type": "code",
   "execution_count": null,
   "id": "4473fc10",
   "metadata": {},
   "outputs": [
    {
     "name": "stdout",
     "output_type": "stream",
     "text": [
      "0\n"
     ]
    }
   ],
   "source": [
    "sum_of_value = True\n",
    "\n",
    "\n",
    "while True:\n",
    "    num = int(input(\"enter your number :\"))\n",
    "    \n",
    "    if num == 0:\n",
    "        break\n",
    "    else:\n",
    "        sum_of_value *= num\n",
    "        \n",
    "\n",
    "print(sum_of_value)"
   ]
  },
  {
   "cell_type": "code",
   "execution_count": 23,
   "id": "bfdde331",
   "metadata": {},
   "outputs": [
    {
     "name": "stdout",
     "output_type": "stream",
     "text": [
      "3 is a prime number\n"
     ]
    }
   ],
   "source": [
    "#Write a program that checks if a number input by the user is a prime number using a for loop\n",
    "num = int(input(\"enter a number:\"))\n",
    "\n",
    "if num > 1:\n",
    "    for i in range(2,num):\n",
    "        if num % i == 0:\n",
    "            print(num,\"is not prime\")\n",
    "            break\n",
    "    else:\n",
    "            print(num,\"is a prime number\")\n",
    "\n",
    "else:\n",
    "    print(num,\"is not a prime number\")\n",
    "    \n",
    "\n",
    "        \n"
   ]
  },
  {
   "cell_type": "code",
   "execution_count": null,
   "id": "3dc975ad",
   "metadata": {},
   "outputs": [
    {
     "name": "stdout",
     "output_type": "stream",
     "text": [
      "number is not even\n"
     ]
    }
   ],
   "source": [
    "\n"
   ]
  },
  {
   "cell_type": "code",
   "execution_count": null,
   "id": "e944c24a",
   "metadata": {},
   "outputs": [],
   "source": []
  },
  {
   "cell_type": "code",
   "execution_count": null,
   "id": "b466131a",
   "metadata": {},
   "outputs": [],
   "source": []
  },
  {
   "cell_type": "code",
   "execution_count": null,
   "id": "c53272ca",
   "metadata": {},
   "outputs": [],
   "source": []
  },
  {
   "cell_type": "code",
   "execution_count": null,
   "id": "9ab110b3",
   "metadata": {},
   "outputs": [],
   "source": []
  },
  {
   "cell_type": "code",
   "execution_count": null,
   "id": "f1c79b9b",
   "metadata": {},
   "outputs": [],
   "source": []
  },
  {
   "cell_type": "code",
   "execution_count": null,
   "id": "c4abf4ed",
   "metadata": {},
   "outputs": [],
   "source": []
  }
 ],
 "metadata": {
  "kernelspec": {
   "display_name": "Python 3",
   "language": "python",
   "name": "python3"
  },
  "language_info": {
   "codemirror_mode": {
    "name": "ipython",
    "version": 3
   },
   "file_extension": ".py",
   "mimetype": "text/x-python",
   "name": "python",
   "nbconvert_exporter": "python",
   "pygments_lexer": "ipython3",
   "version": "3.13.1"
  }
 },
 "nbformat": 4,
 "nbformat_minor": 5
}
