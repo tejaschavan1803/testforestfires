{
 "cells": [
  {
   "cell_type": "markdown",
   "id": "889f0154",
   "metadata": {},
   "source": [
    "file handling\n",
    "#read a whole file"
   ]
  },
  {
   "cell_type": "code",
   "execution_count": 5,
   "id": "21160e81",
   "metadata": {},
   "outputs": [
    {
     "name": "stdout",
     "output_type": "stream",
     "text": [
      "hello how are you i'm good\n",
      "welcome to the course\n",
      "the course is about data science\n"
     ]
    }
   ],
   "source": [
    "with open('example.txt','r') as file:\n",
    "    content = file.read()\n",
    "    print(content)"
   ]
  },
  {
   "cell_type": "code",
   "execution_count": 8,
   "id": "b502d924",
   "metadata": {},
   "outputs": [
    {
     "name": "stdout",
     "output_type": "stream",
     "text": [
      "hello how are you i'm good\n",
      "\n",
      "welcome to the course\n",
      "\n",
      "the course is about data science\n"
     ]
    }
   ],
   "source": [
    "##read file line by line\n",
    "\n",
    "with open('example.txt','r') as file:\n",
    "    for line in file:\n",
    "        print(line)"
   ]
  },
  {
   "cell_type": "code",
   "execution_count": null,
   "id": "1232e0be",
   "metadata": {},
   "outputs": [],
   "source": []
  },
  {
   "cell_type": "code",
   "execution_count": 13,
   "id": "27e77053",
   "metadata": {},
   "outputs": [
    {
     "name": "stdout",
     "output_type": "stream",
     "text": [
      "hello world how are you \n",
      "my name is krish krish\n",
      "hello world how are you \n",
      "my name is krish krish\n"
     ]
    }
   ],
   "source": [
    "with open('C:/Users/Tejas/Desktop/Machine learning and deep learning/sample.txt','r') as file:\n",
    "    for line in file:\n",
    "       print(content.strip()) ##removes new line character"
   ]
  },
  {
   "cell_type": "code",
   "execution_count": 16,
   "id": "7e2ede57",
   "metadata": {},
   "outputs": [],
   "source": [
    "##writing a file\n",
    "with open('example.txt','w') as file:\n",
    "    file.write('hellow world\\n')\n",
    "    file.write(\"this is a new line\\n\")\n",
    "\n",
    " "
   ]
  },
  {
   "cell_type": "code",
   "execution_count": 17,
   "id": "46a5df9d",
   "metadata": {},
   "outputs": [],
   "source": [
    "#write file without overwriting\n",
    "with open('example.txt','a') as file:\n",
    "    file.write(\"append operation taking place\")"
   ]
  },
  {
   "cell_type": "code",
   "execution_count": 20,
   "id": "ee2e25f3",
   "metadata": {},
   "outputs": [],
   "source": [
    "#writing a list of line to a file\n",
    "\n",
    "lines =['first line \\n','second line\\n','third line\\n']\n",
    "with open('example.txt','a') as file:\n",
    "    file.writelines(lines)"
   ]
  },
  {
   "cell_type": "code",
   "execution_count": 21,
   "id": "4f0cbba4",
   "metadata": {},
   "outputs": [],
   "source": [
    "##write and read binary files\n",
    "data = b'\\x00\\x01\\x02\\x03\\x04'\n",
    "with open('example.bin','wb') as file:\n",
    "    file.write(data)\n",
    "\n"
   ]
  },
  {
   "cell_type": "code",
   "execution_count": 24,
   "id": "934e10f9",
   "metadata": {},
   "outputs": [
    {
     "name": "stdout",
     "output_type": "stream",
     "text": [
      "b'\\x00\\x01\\x02\\x03\\x04'\n"
     ]
    }
   ],
   "source": [
    "#read a binary file\n",
    "with open('example.bin','rb') as file:\n",
    "    content = file.read()\n",
    "    print(content)"
   ]
  },
  {
   "cell_type": "code",
   "execution_count": 25,
   "id": "45983e8e",
   "metadata": {},
   "outputs": [],
   "source": [
    "##read the content from source text file and write it to a destination text file\n",
    "#copying a text file\n",
    "with open('example.txt','r') as source_file:\n",
    "    content = source_file.read()\n",
    "\n",
    "with open('destination.rxt','w') as destination_file:\n",
    "    destination_file.write(content)"
   ]
  },
  {
   "cell_type": "code",
   "execution_count": 26,
   "id": "96ea7ec6",
   "metadata": {},
   "outputs": [
    {
     "name": "stdout",
     "output_type": "stream",
     "text": [
      "hello world\n",
      "this is a new line\n",
      "\n"
     ]
    }
   ],
   "source": [
    "##writing and then reading a file \n",
    "with open('example.txt','w+') as file:\n",
    "    file.write(\"hello world\\n\")\n",
    "    file.write(\"this is a new line\\n\")\n",
    "\n",
    "    ##move the file cursor to the beginning\n",
    "    file.seek(0)\n",
    "\n",
    "    ##read the content of file\n",
    "    content =file.read()\n",
    "    print(content)"
   ]
  },
  {
   "cell_type": "markdown",
   "id": "eff20abd",
   "metadata": {},
   "source": [
    "working with files path"
   ]
  },
  {
   "cell_type": "code",
   "execution_count": null,
   "id": "22c67600",
   "metadata": {},
   "outputs": [],
   "source": [
    "#create a new directory\n",
    "import os\n",
    "new_directory = 'package'\n",
    "os.mkdir(new_directory)\n",
    "print(f\"directory '{new_directory}' created\")"
   ]
  },
  {
   "cell_type": "code",
   "execution_count": 2,
   "id": "2eda8f83",
   "metadata": {},
   "outputs": [
    {
     "name": "stdout",
     "output_type": "stream",
     "text": [
      "['destination.txt', 'example.bin', 'example.txt', 'file_operation.ipynb', 'package']\n"
     ]
    }
   ],
   "source": [
    "# listing item and directories \n",
    "import os\n",
    "items = os.listdir('.')\n",
    "print(items)"
   ]
  },
  {
   "cell_type": "code",
   "execution_count": 4,
   "id": "22b0be6c",
   "metadata": {},
   "outputs": [
    {
     "name": "stdout",
     "output_type": "stream",
     "text": [
      "folder\\file.txt\n"
     ]
    }
   ],
   "source": [
    "#joiining  paths\n",
    "import os\n",
    "dir_name = 'folder'\n",
    "file_name = 'file.txt'\n",
    "full_path = os.path.join(dir_name,file_name)\n",
    "print(full_path)"
   ]
  },
  {
   "cell_type": "code",
   "execution_count": 6,
   "id": "e452e184",
   "metadata": {},
   "outputs": [
    {
     "name": "stdout",
     "output_type": "stream",
     "text": [
      "c:\\Users\\Tejas\\Desktop\\Machine learning and deep learning\\module\\package\\file handling\\folder\\file.txt\n"
     ]
    }
   ],
   "source": [
    "##along with folder location\n",
    "dir_name = 'folder'\n",
    "file_name = 'file.txt'\n",
    "full_path = os.path.join(os.getcwd(),dir_name,file_name)\n",
    "print(full_path)"
   ]
  },
  {
   "cell_type": "code",
   "execution_count": 8,
   "id": "e623d7be",
   "metadata": {},
   "outputs": [
    {
     "name": "stdout",
     "output_type": "stream",
     "text": [
      "the path 'example1.txt' does not exit\n"
     ]
    }
   ],
   "source": [
    "path = \"example1.txt\"\n",
    "if os.path.exists(path):\n",
    "    print(f\"the path '{path} exist'\")\n",
    "\n",
    "else:\n",
    "    print(f\"the path '{path}' does not exit\")"
   ]
  },
  {
   "cell_type": "code",
   "execution_count": 9,
   "id": "a528355b",
   "metadata": {},
   "outputs": [
    {
     "name": "stdout",
     "output_type": "stream",
     "text": [
      "The path 'example.txt' is a file\n"
     ]
    }
   ],
   "source": [
    "## checking if a path is file or directory\n",
    "\n",
    "import os\n",
    "\n",
    "path = 'example.txt'\n",
    "\n",
    "if os.path.isfile(path):\n",
    "    print(f\"The path '{path}' is a file\")\n",
    "elif os.path.isdir(path):\n",
    "    print(f\"The path '{path}' is a directory\")\n",
    "else:\n",
    "    print(f\"the path '{path}' is neither file nor a directory.\")"
   ]
  },
  {
   "cell_type": "code",
   "execution_count": 11,
   "id": "ec149099",
   "metadata": {},
   "outputs": [
    {
     "name": "stdout",
     "output_type": "stream",
     "text": [
      "c:\\Users\\Tejas\\Desktop\\Machine learning and deep learning\\module\\package\\file handling\\example.txt\n"
     ]
    }
   ],
   "source": [
    "##getting absolute path\n",
    "relative_path = \"example.txt\"\n",
    "absolute_path = os.path.abspath(relative_path)\n",
    "print(absolute_path)"
   ]
  },
  {
   "cell_type": "markdown",
   "id": "68fd6b33",
   "metadata": {},
   "source": []
  }
 ],
 "metadata": {
  "kernelspec": {
   "display_name": "Python 3",
   "language": "python",
   "name": "python3"
  },
  "language_info": {
   "codemirror_mode": {
    "name": "ipython",
    "version": 3
   },
   "file_extension": ".py",
   "mimetype": "text/x-python",
   "name": "python",
   "nbconvert_exporter": "python",
   "pygments_lexer": "ipython3",
   "version": "3.13.1"
  }
 },
 "nbformat": 4,
 "nbformat_minor": 5
}
